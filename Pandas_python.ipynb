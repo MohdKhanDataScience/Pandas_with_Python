{
 "cells": [
  {
   "cell_type": "markdown",
   "metadata": {},
   "source": [
    "# Pandas Python:"
   ]
  },
  {
   "cell_type": "code",
   "execution_count": 1,
   "metadata": {},
   "outputs": [],
   "source": [
    "import numpy as np\n",
    "import pandas as pd"
   ]
  },
  {
   "cell_type": "raw",
   "metadata": {},
   "source": [
    "** Object Creation **"
   ]
  },
  {
   "cell_type": "markdown",
   "metadata": {},
   "source": [
    "* 1.Series:-Creating a Series by passing a list of values, letting pandas create a default integer index:"
   ]
  },
  {
   "cell_type": "code",
   "execution_count": 2,
   "metadata": {},
   "outputs": [],
   "source": [
    "s=pd.Series([1,2,3,4])"
   ]
  },
  {
   "cell_type": "code",
   "execution_count": 3,
   "metadata": {},
   "outputs": [
    {
     "data": {
      "text/plain": [
       "0    1\n",
       "1    2\n",
       "2    3\n",
       "3    4\n",
       "dtype: int64"
      ]
     },
     "execution_count": 3,
     "metadata": {},
     "output_type": "execute_result"
    }
   ],
   "source": [
    "s"
   ]
  },
  {
   "cell_type": "markdown",
   "metadata": {},
   "source": [
    "* 2.DataFrame:-Creating a DataFrame by passing a numpy array, with a datetime index and labeled columns:"
   ]
  },
  {
   "cell_type": "code",
   "execution_count": 4,
   "metadata": {},
   "outputs": [],
   "source": [
    "dates=pd.date_range('20210217',periods=6)"
   ]
  },
  {
   "cell_type": "code",
   "execution_count": 5,
   "metadata": {},
   "outputs": [
    {
     "data": {
      "text/plain": [
       "DatetimeIndex(['2021-02-17', '2021-02-18', '2021-02-19', '2021-02-20',\n",
       "               '2021-02-21', '2021-02-22'],\n",
       "              dtype='datetime64[ns]', freq='D')"
      ]
     },
     "execution_count": 5,
     "metadata": {},
     "output_type": "execute_result"
    }
   ],
   "source": [
    "dates"
   ]
  },
  {
   "cell_type": "code",
   "execution_count": 6,
   "metadata": {},
   "outputs": [],
   "source": [
    "df=pd.DataFrame(np.random.randn(6,4),index=dates,columns=list('ABCD'))"
   ]
  },
  {
   "cell_type": "code",
   "execution_count": 7,
   "metadata": {},
   "outputs": [
    {
     "data": {
      "text/html": [
       "<div>\n",
       "<style scoped>\n",
       "    .dataframe tbody tr th:only-of-type {\n",
       "        vertical-align: middle;\n",
       "    }\n",
       "\n",
       "    .dataframe tbody tr th {\n",
       "        vertical-align: top;\n",
       "    }\n",
       "\n",
       "    .dataframe thead th {\n",
       "        text-align: right;\n",
       "    }\n",
       "</style>\n",
       "<table border=\"1\" class=\"dataframe\">\n",
       "  <thead>\n",
       "    <tr style=\"text-align: right;\">\n",
       "      <th></th>\n",
       "      <th>A</th>\n",
       "      <th>B</th>\n",
       "      <th>C</th>\n",
       "      <th>D</th>\n",
       "    </tr>\n",
       "  </thead>\n",
       "  <tbody>\n",
       "    <tr>\n",
       "      <td>2021-02-17</td>\n",
       "      <td>0.863749</td>\n",
       "      <td>-1.232035</td>\n",
       "      <td>-0.082802</td>\n",
       "      <td>0.110710</td>\n",
       "    </tr>\n",
       "    <tr>\n",
       "      <td>2021-02-18</td>\n",
       "      <td>0.351729</td>\n",
       "      <td>1.374050</td>\n",
       "      <td>0.429826</td>\n",
       "      <td>-0.823687</td>\n",
       "    </tr>\n",
       "    <tr>\n",
       "      <td>2021-02-19</td>\n",
       "      <td>0.253523</td>\n",
       "      <td>-0.030887</td>\n",
       "      <td>0.611111</td>\n",
       "      <td>0.786406</td>\n",
       "    </tr>\n",
       "    <tr>\n",
       "      <td>2021-02-20</td>\n",
       "      <td>0.862217</td>\n",
       "      <td>-0.543569</td>\n",
       "      <td>0.174998</td>\n",
       "      <td>-0.106426</td>\n",
       "    </tr>\n",
       "    <tr>\n",
       "      <td>2021-02-21</td>\n",
       "      <td>1.363210</td>\n",
       "      <td>-1.968236</td>\n",
       "      <td>-0.862669</td>\n",
       "      <td>1.241813</td>\n",
       "    </tr>\n",
       "    <tr>\n",
       "      <td>2021-02-22</td>\n",
       "      <td>-0.264783</td>\n",
       "      <td>0.782279</td>\n",
       "      <td>-0.227397</td>\n",
       "      <td>-0.359445</td>\n",
       "    </tr>\n",
       "  </tbody>\n",
       "</table>\n",
       "</div>"
      ],
      "text/plain": [
       "                   A         B         C         D\n",
       "2021-02-17  0.863749 -1.232035 -0.082802  0.110710\n",
       "2021-02-18  0.351729  1.374050  0.429826 -0.823687\n",
       "2021-02-19  0.253523 -0.030887  0.611111  0.786406\n",
       "2021-02-20  0.862217 -0.543569  0.174998 -0.106426\n",
       "2021-02-21  1.363210 -1.968236 -0.862669  1.241813\n",
       "2021-02-22 -0.264783  0.782279 -0.227397 -0.359445"
      ]
     },
     "execution_count": 7,
     "metadata": {},
     "output_type": "execute_result"
    }
   ],
   "source": [
    "df"
   ]
  },
  {
   "cell_type": "code",
   "execution_count": 8,
   "metadata": {},
   "outputs": [
    {
     "data": {
      "text/plain": [
       "A    float64\n",
       "B    float64\n",
       "C    float64\n",
       "D    float64\n",
       "dtype: object"
      ]
     },
     "execution_count": 8,
     "metadata": {},
     "output_type": "execute_result"
    }
   ],
   "source": [
    "df.dtypes"
   ]
  },
  {
   "cell_type": "markdown",
   "metadata": {},
   "source": [
    "* Viewing Data:"
   ]
  },
  {
   "cell_type": "code",
   "execution_count": 9,
   "metadata": {},
   "outputs": [
    {
     "data": {
      "text/html": [
       "<div>\n",
       "<style scoped>\n",
       "    .dataframe tbody tr th:only-of-type {\n",
       "        vertical-align: middle;\n",
       "    }\n",
       "\n",
       "    .dataframe tbody tr th {\n",
       "        vertical-align: top;\n",
       "    }\n",
       "\n",
       "    .dataframe thead th {\n",
       "        text-align: right;\n",
       "    }\n",
       "</style>\n",
       "<table border=\"1\" class=\"dataframe\">\n",
       "  <thead>\n",
       "    <tr style=\"text-align: right;\">\n",
       "      <th></th>\n",
       "      <th>A</th>\n",
       "      <th>B</th>\n",
       "      <th>C</th>\n",
       "      <th>D</th>\n",
       "    </tr>\n",
       "  </thead>\n",
       "  <tbody>\n",
       "    <tr>\n",
       "      <td>2021-02-17</td>\n",
       "      <td>0.863749</td>\n",
       "      <td>-1.232035</td>\n",
       "      <td>-0.082802</td>\n",
       "      <td>0.110710</td>\n",
       "    </tr>\n",
       "    <tr>\n",
       "      <td>2021-02-18</td>\n",
       "      <td>0.351729</td>\n",
       "      <td>1.374050</td>\n",
       "      <td>0.429826</td>\n",
       "      <td>-0.823687</td>\n",
       "    </tr>\n",
       "    <tr>\n",
       "      <td>2021-02-19</td>\n",
       "      <td>0.253523</td>\n",
       "      <td>-0.030887</td>\n",
       "      <td>0.611111</td>\n",
       "      <td>0.786406</td>\n",
       "    </tr>\n",
       "    <tr>\n",
       "      <td>2021-02-20</td>\n",
       "      <td>0.862217</td>\n",
       "      <td>-0.543569</td>\n",
       "      <td>0.174998</td>\n",
       "      <td>-0.106426</td>\n",
       "    </tr>\n",
       "    <tr>\n",
       "      <td>2021-02-21</td>\n",
       "      <td>1.363210</td>\n",
       "      <td>-1.968236</td>\n",
       "      <td>-0.862669</td>\n",
       "      <td>1.241813</td>\n",
       "    </tr>\n",
       "  </tbody>\n",
       "</table>\n",
       "</div>"
      ],
      "text/plain": [
       "                   A         B         C         D\n",
       "2021-02-17  0.863749 -1.232035 -0.082802  0.110710\n",
       "2021-02-18  0.351729  1.374050  0.429826 -0.823687\n",
       "2021-02-19  0.253523 -0.030887  0.611111  0.786406\n",
       "2021-02-20  0.862217 -0.543569  0.174998 -0.106426\n",
       "2021-02-21  1.363210 -1.968236 -0.862669  1.241813"
      ]
     },
     "execution_count": 9,
     "metadata": {},
     "output_type": "execute_result"
    }
   ],
   "source": [
    "df.head() #See the top & bottom rows of the frame"
   ]
  },
  {
   "cell_type": "code",
   "execution_count": 10,
   "metadata": {},
   "outputs": [
    {
     "data": {
      "text/html": [
       "<div>\n",
       "<style scoped>\n",
       "    .dataframe tbody tr th:only-of-type {\n",
       "        vertical-align: middle;\n",
       "    }\n",
       "\n",
       "    .dataframe tbody tr th {\n",
       "        vertical-align: top;\n",
       "    }\n",
       "\n",
       "    .dataframe thead th {\n",
       "        text-align: right;\n",
       "    }\n",
       "</style>\n",
       "<table border=\"1\" class=\"dataframe\">\n",
       "  <thead>\n",
       "    <tr style=\"text-align: right;\">\n",
       "      <th></th>\n",
       "      <th>A</th>\n",
       "      <th>B</th>\n",
       "      <th>C</th>\n",
       "      <th>D</th>\n",
       "    </tr>\n",
       "  </thead>\n",
       "  <tbody>\n",
       "    <tr>\n",
       "      <td>2021-02-18</td>\n",
       "      <td>0.351729</td>\n",
       "      <td>1.374050</td>\n",
       "      <td>0.429826</td>\n",
       "      <td>-0.823687</td>\n",
       "    </tr>\n",
       "    <tr>\n",
       "      <td>2021-02-19</td>\n",
       "      <td>0.253523</td>\n",
       "      <td>-0.030887</td>\n",
       "      <td>0.611111</td>\n",
       "      <td>0.786406</td>\n",
       "    </tr>\n",
       "    <tr>\n",
       "      <td>2021-02-20</td>\n",
       "      <td>0.862217</td>\n",
       "      <td>-0.543569</td>\n",
       "      <td>0.174998</td>\n",
       "      <td>-0.106426</td>\n",
       "    </tr>\n",
       "    <tr>\n",
       "      <td>2021-02-21</td>\n",
       "      <td>1.363210</td>\n",
       "      <td>-1.968236</td>\n",
       "      <td>-0.862669</td>\n",
       "      <td>1.241813</td>\n",
       "    </tr>\n",
       "    <tr>\n",
       "      <td>2021-02-22</td>\n",
       "      <td>-0.264783</td>\n",
       "      <td>0.782279</td>\n",
       "      <td>-0.227397</td>\n",
       "      <td>-0.359445</td>\n",
       "    </tr>\n",
       "  </tbody>\n",
       "</table>\n",
       "</div>"
      ],
      "text/plain": [
       "                   A         B         C         D\n",
       "2021-02-18  0.351729  1.374050  0.429826 -0.823687\n",
       "2021-02-19  0.253523 -0.030887  0.611111  0.786406\n",
       "2021-02-20  0.862217 -0.543569  0.174998 -0.106426\n",
       "2021-02-21  1.363210 -1.968236 -0.862669  1.241813\n",
       "2021-02-22 -0.264783  0.782279 -0.227397 -0.359445"
      ]
     },
     "execution_count": 10,
     "metadata": {},
     "output_type": "execute_result"
    }
   ],
   "source": [
    "df.tail()"
   ]
  },
  {
   "cell_type": "code",
   "execution_count": 11,
   "metadata": {},
   "outputs": [
    {
     "data": {
      "text/plain": [
       "DatetimeIndex(['2021-02-17', '2021-02-18', '2021-02-19', '2021-02-20',\n",
       "               '2021-02-21', '2021-02-22'],\n",
       "              dtype='datetime64[ns]', freq='D')"
      ]
     },
     "execution_count": 11,
     "metadata": {},
     "output_type": "execute_result"
    }
   ],
   "source": [
    "df.index"
   ]
  },
  {
   "cell_type": "code",
   "execution_count": 12,
   "metadata": {},
   "outputs": [
    {
     "data": {
      "text/plain": [
       "Index(['A', 'B', 'C', 'D'], dtype='object')"
      ]
     },
     "execution_count": 12,
     "metadata": {},
     "output_type": "execute_result"
    }
   ],
   "source": [
    "df.columns"
   ]
  },
  {
   "cell_type": "code",
   "execution_count": 13,
   "metadata": {},
   "outputs": [
    {
     "data": {
      "text/plain": [
       "array([[ 0.86374917, -1.23203501, -0.08280196,  0.11070992],\n",
       "       [ 0.35172911,  1.37404976,  0.42982569, -0.82368712],\n",
       "       [ 0.25352269, -0.03088654,  0.61111106,  0.78640587],\n",
       "       [ 0.86221736, -0.54356902,  0.17499813, -0.10642625],\n",
       "       [ 1.36321036, -1.96823633, -0.86266874,  1.24181317],\n",
       "       [-0.26478268,  0.78227872, -0.22739694, -0.35944452]])"
      ]
     },
     "execution_count": 13,
     "metadata": {},
     "output_type": "execute_result"
    }
   ],
   "source": [
    "df.values"
   ]
  },
  {
   "cell_type": "code",
   "execution_count": 14,
   "metadata": {},
   "outputs": [
    {
     "data": {
      "text/html": [
       "<div>\n",
       "<style scoped>\n",
       "    .dataframe tbody tr th:only-of-type {\n",
       "        vertical-align: middle;\n",
       "    }\n",
       "\n",
       "    .dataframe tbody tr th {\n",
       "        vertical-align: top;\n",
       "    }\n",
       "\n",
       "    .dataframe thead th {\n",
       "        text-align: right;\n",
       "    }\n",
       "</style>\n",
       "<table border=\"1\" class=\"dataframe\">\n",
       "  <thead>\n",
       "    <tr style=\"text-align: right;\">\n",
       "      <th></th>\n",
       "      <th>A</th>\n",
       "      <th>B</th>\n",
       "      <th>C</th>\n",
       "      <th>D</th>\n",
       "    </tr>\n",
       "  </thead>\n",
       "  <tbody>\n",
       "    <tr>\n",
       "      <td>count</td>\n",
       "      <td>6.000000</td>\n",
       "      <td>6.000000</td>\n",
       "      <td>6.000000</td>\n",
       "      <td>6.000000</td>\n",
       "    </tr>\n",
       "    <tr>\n",
       "      <td>mean</td>\n",
       "      <td>0.571608</td>\n",
       "      <td>-0.269733</td>\n",
       "      <td>0.007178</td>\n",
       "      <td>0.141562</td>\n",
       "    </tr>\n",
       "    <tr>\n",
       "      <td>std</td>\n",
       "      <td>0.573674</td>\n",
       "      <td>1.245128</td>\n",
       "      <td>0.527501</td>\n",
       "      <td>0.757831</td>\n",
       "    </tr>\n",
       "    <tr>\n",
       "      <td>min</td>\n",
       "      <td>-0.264783</td>\n",
       "      <td>-1.968236</td>\n",
       "      <td>-0.862669</td>\n",
       "      <td>-0.823687</td>\n",
       "    </tr>\n",
       "    <tr>\n",
       "      <td>25%</td>\n",
       "      <td>0.278074</td>\n",
       "      <td>-1.059919</td>\n",
       "      <td>-0.191248</td>\n",
       "      <td>-0.296190</td>\n",
       "    </tr>\n",
       "    <tr>\n",
       "      <td>50%</td>\n",
       "      <td>0.606973</td>\n",
       "      <td>-0.287228</td>\n",
       "      <td>0.046098</td>\n",
       "      <td>0.002142</td>\n",
       "    </tr>\n",
       "    <tr>\n",
       "      <td>75%</td>\n",
       "      <td>0.863366</td>\n",
       "      <td>0.578987</td>\n",
       "      <td>0.366119</td>\n",
       "      <td>0.617482</td>\n",
       "    </tr>\n",
       "    <tr>\n",
       "      <td>max</td>\n",
       "      <td>1.363210</td>\n",
       "      <td>1.374050</td>\n",
       "      <td>0.611111</td>\n",
       "      <td>1.241813</td>\n",
       "    </tr>\n",
       "  </tbody>\n",
       "</table>\n",
       "</div>"
      ],
      "text/plain": [
       "              A         B         C         D\n",
       "count  6.000000  6.000000  6.000000  6.000000\n",
       "mean   0.571608 -0.269733  0.007178  0.141562\n",
       "std    0.573674  1.245128  0.527501  0.757831\n",
       "min   -0.264783 -1.968236 -0.862669 -0.823687\n",
       "25%    0.278074 -1.059919 -0.191248 -0.296190\n",
       "50%    0.606973 -0.287228  0.046098  0.002142\n",
       "75%    0.863366  0.578987  0.366119  0.617482\n",
       "max    1.363210  1.374050  0.611111  1.241813"
      ]
     },
     "execution_count": 14,
     "metadata": {},
     "output_type": "execute_result"
    }
   ],
   "source": [
    "df.describe() # Describe shows a quick statistic summary of your data"
   ]
  },
  {
   "cell_type": "code",
   "execution_count": 15,
   "metadata": {},
   "outputs": [
    {
     "data": {
      "text/html": [
       "<div>\n",
       "<style scoped>\n",
       "    .dataframe tbody tr th:only-of-type {\n",
       "        vertical-align: middle;\n",
       "    }\n",
       "\n",
       "    .dataframe tbody tr th {\n",
       "        vertical-align: top;\n",
       "    }\n",
       "\n",
       "    .dataframe thead th {\n",
       "        text-align: right;\n",
       "    }\n",
       "</style>\n",
       "<table border=\"1\" class=\"dataframe\">\n",
       "  <thead>\n",
       "    <tr style=\"text-align: right;\">\n",
       "      <th></th>\n",
       "      <th>2021-02-17</th>\n",
       "      <th>2021-02-18</th>\n",
       "      <th>2021-02-19</th>\n",
       "      <th>2021-02-20</th>\n",
       "      <th>2021-02-21</th>\n",
       "      <th>2021-02-22</th>\n",
       "    </tr>\n",
       "  </thead>\n",
       "  <tbody>\n",
       "    <tr>\n",
       "      <td>A</td>\n",
       "      <td>0.863749</td>\n",
       "      <td>0.351729</td>\n",
       "      <td>0.253523</td>\n",
       "      <td>0.862217</td>\n",
       "      <td>1.363210</td>\n",
       "      <td>-0.264783</td>\n",
       "    </tr>\n",
       "    <tr>\n",
       "      <td>B</td>\n",
       "      <td>-1.232035</td>\n",
       "      <td>1.374050</td>\n",
       "      <td>-0.030887</td>\n",
       "      <td>-0.543569</td>\n",
       "      <td>-1.968236</td>\n",
       "      <td>0.782279</td>\n",
       "    </tr>\n",
       "    <tr>\n",
       "      <td>C</td>\n",
       "      <td>-0.082802</td>\n",
       "      <td>0.429826</td>\n",
       "      <td>0.611111</td>\n",
       "      <td>0.174998</td>\n",
       "      <td>-0.862669</td>\n",
       "      <td>-0.227397</td>\n",
       "    </tr>\n",
       "    <tr>\n",
       "      <td>D</td>\n",
       "      <td>0.110710</td>\n",
       "      <td>-0.823687</td>\n",
       "      <td>0.786406</td>\n",
       "      <td>-0.106426</td>\n",
       "      <td>1.241813</td>\n",
       "      <td>-0.359445</td>\n",
       "    </tr>\n",
       "  </tbody>\n",
       "</table>\n",
       "</div>"
      ],
      "text/plain": [
       "   2021-02-17  2021-02-18  2021-02-19  2021-02-20  2021-02-21  2021-02-22\n",
       "A    0.863749    0.351729    0.253523    0.862217    1.363210   -0.264783\n",
       "B   -1.232035    1.374050   -0.030887   -0.543569   -1.968236    0.782279\n",
       "C   -0.082802    0.429826    0.611111    0.174998   -0.862669   -0.227397\n",
       "D    0.110710   -0.823687    0.786406   -0.106426    1.241813   -0.359445"
      ]
     },
     "execution_count": 15,
     "metadata": {},
     "output_type": "execute_result"
    }
   ],
   "source": [
    "df.T #Transposing your data"
   ]
  },
  {
   "cell_type": "raw",
   "metadata": {},
   "source": [
    "** Sorting by an axis **"
   ]
  },
  {
   "cell_type": "code",
   "execution_count": 16,
   "metadata": {},
   "outputs": [
    {
     "data": {
      "text/html": [
       "<div>\n",
       "<style scoped>\n",
       "    .dataframe tbody tr th:only-of-type {\n",
       "        vertical-align: middle;\n",
       "    }\n",
       "\n",
       "    .dataframe tbody tr th {\n",
       "        vertical-align: top;\n",
       "    }\n",
       "\n",
       "    .dataframe thead th {\n",
       "        text-align: right;\n",
       "    }\n",
       "</style>\n",
       "<table border=\"1\" class=\"dataframe\">\n",
       "  <thead>\n",
       "    <tr style=\"text-align: right;\">\n",
       "      <th></th>\n",
       "      <th>A</th>\n",
       "      <th>B</th>\n",
       "      <th>C</th>\n",
       "      <th>D</th>\n",
       "    </tr>\n",
       "  </thead>\n",
       "  <tbody>\n",
       "    <tr>\n",
       "      <td>2021-02-17</td>\n",
       "      <td>0.863749</td>\n",
       "      <td>-1.232035</td>\n",
       "      <td>-0.082802</td>\n",
       "      <td>0.110710</td>\n",
       "    </tr>\n",
       "    <tr>\n",
       "      <td>2021-02-18</td>\n",
       "      <td>0.351729</td>\n",
       "      <td>1.374050</td>\n",
       "      <td>0.429826</td>\n",
       "      <td>-0.823687</td>\n",
       "    </tr>\n",
       "    <tr>\n",
       "      <td>2021-02-19</td>\n",
       "      <td>0.253523</td>\n",
       "      <td>-0.030887</td>\n",
       "      <td>0.611111</td>\n",
       "      <td>0.786406</td>\n",
       "    </tr>\n",
       "    <tr>\n",
       "      <td>2021-02-20</td>\n",
       "      <td>0.862217</td>\n",
       "      <td>-0.543569</td>\n",
       "      <td>0.174998</td>\n",
       "      <td>-0.106426</td>\n",
       "    </tr>\n",
       "    <tr>\n",
       "      <td>2021-02-21</td>\n",
       "      <td>1.363210</td>\n",
       "      <td>-1.968236</td>\n",
       "      <td>-0.862669</td>\n",
       "      <td>1.241813</td>\n",
       "    </tr>\n",
       "    <tr>\n",
       "      <td>2021-02-22</td>\n",
       "      <td>-0.264783</td>\n",
       "      <td>0.782279</td>\n",
       "      <td>-0.227397</td>\n",
       "      <td>-0.359445</td>\n",
       "    </tr>\n",
       "  </tbody>\n",
       "</table>\n",
       "</div>"
      ],
      "text/plain": [
       "                   A         B         C         D\n",
       "2021-02-17  0.863749 -1.232035 -0.082802  0.110710\n",
       "2021-02-18  0.351729  1.374050  0.429826 -0.823687\n",
       "2021-02-19  0.253523 -0.030887  0.611111  0.786406\n",
       "2021-02-20  0.862217 -0.543569  0.174998 -0.106426\n",
       "2021-02-21  1.363210 -1.968236 -0.862669  1.241813\n",
       "2021-02-22 -0.264783  0.782279 -0.227397 -0.359445"
      ]
     },
     "execution_count": 16,
     "metadata": {},
     "output_type": "execute_result"
    }
   ],
   "source": [
    "df.sort_index(axis=0,ascending=True)"
   ]
  },
  {
   "cell_type": "code",
   "execution_count": 17,
   "metadata": {},
   "outputs": [
    {
     "data": {
      "text/html": [
       "<div>\n",
       "<style scoped>\n",
       "    .dataframe tbody tr th:only-of-type {\n",
       "        vertical-align: middle;\n",
       "    }\n",
       "\n",
       "    .dataframe tbody tr th {\n",
       "        vertical-align: top;\n",
       "    }\n",
       "\n",
       "    .dataframe thead th {\n",
       "        text-align: right;\n",
       "    }\n",
       "</style>\n",
       "<table border=\"1\" class=\"dataframe\">\n",
       "  <thead>\n",
       "    <tr style=\"text-align: right;\">\n",
       "      <th></th>\n",
       "      <th>A</th>\n",
       "      <th>B</th>\n",
       "      <th>C</th>\n",
       "      <th>D</th>\n",
       "    </tr>\n",
       "  </thead>\n",
       "  <tbody>\n",
       "    <tr>\n",
       "      <td>2021-02-22</td>\n",
       "      <td>-0.264783</td>\n",
       "      <td>0.782279</td>\n",
       "      <td>-0.227397</td>\n",
       "      <td>-0.359445</td>\n",
       "    </tr>\n",
       "    <tr>\n",
       "      <td>2021-02-21</td>\n",
       "      <td>1.363210</td>\n",
       "      <td>-1.968236</td>\n",
       "      <td>-0.862669</td>\n",
       "      <td>1.241813</td>\n",
       "    </tr>\n",
       "    <tr>\n",
       "      <td>2021-02-20</td>\n",
       "      <td>0.862217</td>\n",
       "      <td>-0.543569</td>\n",
       "      <td>0.174998</td>\n",
       "      <td>-0.106426</td>\n",
       "    </tr>\n",
       "    <tr>\n",
       "      <td>2021-02-19</td>\n",
       "      <td>0.253523</td>\n",
       "      <td>-0.030887</td>\n",
       "      <td>0.611111</td>\n",
       "      <td>0.786406</td>\n",
       "    </tr>\n",
       "    <tr>\n",
       "      <td>2021-02-18</td>\n",
       "      <td>0.351729</td>\n",
       "      <td>1.374050</td>\n",
       "      <td>0.429826</td>\n",
       "      <td>-0.823687</td>\n",
       "    </tr>\n",
       "    <tr>\n",
       "      <td>2021-02-17</td>\n",
       "      <td>0.863749</td>\n",
       "      <td>-1.232035</td>\n",
       "      <td>-0.082802</td>\n",
       "      <td>0.110710</td>\n",
       "    </tr>\n",
       "  </tbody>\n",
       "</table>\n",
       "</div>"
      ],
      "text/plain": [
       "                   A         B         C         D\n",
       "2021-02-22 -0.264783  0.782279 -0.227397 -0.359445\n",
       "2021-02-21  1.363210 -1.968236 -0.862669  1.241813\n",
       "2021-02-20  0.862217 -0.543569  0.174998 -0.106426\n",
       "2021-02-19  0.253523 -0.030887  0.611111  0.786406\n",
       "2021-02-18  0.351729  1.374050  0.429826 -0.823687\n",
       "2021-02-17  0.863749 -1.232035 -0.082802  0.110710"
      ]
     },
     "execution_count": 17,
     "metadata": {},
     "output_type": "execute_result"
    }
   ],
   "source": [
    "df.sort_index(axis=0,ascending=False) # rows."
   ]
  },
  {
   "cell_type": "code",
   "execution_count": 18,
   "metadata": {},
   "outputs": [
    {
     "data": {
      "text/html": [
       "<div>\n",
       "<style scoped>\n",
       "    .dataframe tbody tr th:only-of-type {\n",
       "        vertical-align: middle;\n",
       "    }\n",
       "\n",
       "    .dataframe tbody tr th {\n",
       "        vertical-align: top;\n",
       "    }\n",
       "\n",
       "    .dataframe thead th {\n",
       "        text-align: right;\n",
       "    }\n",
       "</style>\n",
       "<table border=\"1\" class=\"dataframe\">\n",
       "  <thead>\n",
       "    <tr style=\"text-align: right;\">\n",
       "      <th></th>\n",
       "      <th>D</th>\n",
       "      <th>C</th>\n",
       "      <th>B</th>\n",
       "      <th>A</th>\n",
       "    </tr>\n",
       "  </thead>\n",
       "  <tbody>\n",
       "    <tr>\n",
       "      <td>2021-02-17</td>\n",
       "      <td>0.110710</td>\n",
       "      <td>-0.082802</td>\n",
       "      <td>-1.232035</td>\n",
       "      <td>0.863749</td>\n",
       "    </tr>\n",
       "    <tr>\n",
       "      <td>2021-02-18</td>\n",
       "      <td>-0.823687</td>\n",
       "      <td>0.429826</td>\n",
       "      <td>1.374050</td>\n",
       "      <td>0.351729</td>\n",
       "    </tr>\n",
       "    <tr>\n",
       "      <td>2021-02-19</td>\n",
       "      <td>0.786406</td>\n",
       "      <td>0.611111</td>\n",
       "      <td>-0.030887</td>\n",
       "      <td>0.253523</td>\n",
       "    </tr>\n",
       "    <tr>\n",
       "      <td>2021-02-20</td>\n",
       "      <td>-0.106426</td>\n",
       "      <td>0.174998</td>\n",
       "      <td>-0.543569</td>\n",
       "      <td>0.862217</td>\n",
       "    </tr>\n",
       "    <tr>\n",
       "      <td>2021-02-21</td>\n",
       "      <td>1.241813</td>\n",
       "      <td>-0.862669</td>\n",
       "      <td>-1.968236</td>\n",
       "      <td>1.363210</td>\n",
       "    </tr>\n",
       "    <tr>\n",
       "      <td>2021-02-22</td>\n",
       "      <td>-0.359445</td>\n",
       "      <td>-0.227397</td>\n",
       "      <td>0.782279</td>\n",
       "      <td>-0.264783</td>\n",
       "    </tr>\n",
       "  </tbody>\n",
       "</table>\n",
       "</div>"
      ],
      "text/plain": [
       "                   D         C         B         A\n",
       "2021-02-17  0.110710 -0.082802 -1.232035  0.863749\n",
       "2021-02-18 -0.823687  0.429826  1.374050  0.351729\n",
       "2021-02-19  0.786406  0.611111 -0.030887  0.253523\n",
       "2021-02-20 -0.106426  0.174998 -0.543569  0.862217\n",
       "2021-02-21  1.241813 -0.862669 -1.968236  1.363210\n",
       "2021-02-22 -0.359445 -0.227397  0.782279 -0.264783"
      ]
     },
     "execution_count": 18,
     "metadata": {},
     "output_type": "execute_result"
    }
   ],
   "source": [
    "df.sort_index(axis=1,ascending=False) # columns wise"
   ]
  },
  {
   "cell_type": "raw",
   "metadata": {},
   "source": [
    "** Sorting by values **"
   ]
  },
  {
   "cell_type": "code",
   "execution_count": 19,
   "metadata": {},
   "outputs": [
    {
     "data": {
      "text/html": [
       "<div>\n",
       "<style scoped>\n",
       "    .dataframe tbody tr th:only-of-type {\n",
       "        vertical-align: middle;\n",
       "    }\n",
       "\n",
       "    .dataframe tbody tr th {\n",
       "        vertical-align: top;\n",
       "    }\n",
       "\n",
       "    .dataframe thead th {\n",
       "        text-align: right;\n",
       "    }\n",
       "</style>\n",
       "<table border=\"1\" class=\"dataframe\">\n",
       "  <thead>\n",
       "    <tr style=\"text-align: right;\">\n",
       "      <th></th>\n",
       "      <th>A</th>\n",
       "      <th>B</th>\n",
       "      <th>C</th>\n",
       "      <th>D</th>\n",
       "    </tr>\n",
       "  </thead>\n",
       "  <tbody>\n",
       "    <tr>\n",
       "      <td>2021-02-22</td>\n",
       "      <td>-0.264783</td>\n",
       "      <td>0.782279</td>\n",
       "      <td>-0.227397</td>\n",
       "      <td>-0.359445</td>\n",
       "    </tr>\n",
       "    <tr>\n",
       "      <td>2021-02-19</td>\n",
       "      <td>0.253523</td>\n",
       "      <td>-0.030887</td>\n",
       "      <td>0.611111</td>\n",
       "      <td>0.786406</td>\n",
       "    </tr>\n",
       "    <tr>\n",
       "      <td>2021-02-18</td>\n",
       "      <td>0.351729</td>\n",
       "      <td>1.374050</td>\n",
       "      <td>0.429826</td>\n",
       "      <td>-0.823687</td>\n",
       "    </tr>\n",
       "    <tr>\n",
       "      <td>2021-02-20</td>\n",
       "      <td>0.862217</td>\n",
       "      <td>-0.543569</td>\n",
       "      <td>0.174998</td>\n",
       "      <td>-0.106426</td>\n",
       "    </tr>\n",
       "    <tr>\n",
       "      <td>2021-02-17</td>\n",
       "      <td>0.863749</td>\n",
       "      <td>-1.232035</td>\n",
       "      <td>-0.082802</td>\n",
       "      <td>0.110710</td>\n",
       "    </tr>\n",
       "    <tr>\n",
       "      <td>2021-02-21</td>\n",
       "      <td>1.363210</td>\n",
       "      <td>-1.968236</td>\n",
       "      <td>-0.862669</td>\n",
       "      <td>1.241813</td>\n",
       "    </tr>\n",
       "  </tbody>\n",
       "</table>\n",
       "</div>"
      ],
      "text/plain": [
       "                   A         B         C         D\n",
       "2021-02-22 -0.264783  0.782279 -0.227397 -0.359445\n",
       "2021-02-19  0.253523 -0.030887  0.611111  0.786406\n",
       "2021-02-18  0.351729  1.374050  0.429826 -0.823687\n",
       "2021-02-20  0.862217 -0.543569  0.174998 -0.106426\n",
       "2021-02-17  0.863749 -1.232035 -0.082802  0.110710\n",
       "2021-02-21  1.363210 -1.968236 -0.862669  1.241813"
      ]
     },
     "execution_count": 19,
     "metadata": {},
     "output_type": "execute_result"
    }
   ],
   "source": [
    "df.sort_values(by='A')"
   ]
  },
  {
   "cell_type": "code",
   "execution_count": 20,
   "metadata": {},
   "outputs": [
    {
     "data": {
      "text/html": [
       "<div>\n",
       "<style scoped>\n",
       "    .dataframe tbody tr th:only-of-type {\n",
       "        vertical-align: middle;\n",
       "    }\n",
       "\n",
       "    .dataframe tbody tr th {\n",
       "        vertical-align: top;\n",
       "    }\n",
       "\n",
       "    .dataframe thead th {\n",
       "        text-align: right;\n",
       "    }\n",
       "</style>\n",
       "<table border=\"1\" class=\"dataframe\">\n",
       "  <thead>\n",
       "    <tr style=\"text-align: right;\">\n",
       "      <th></th>\n",
       "      <th>A</th>\n",
       "      <th>B</th>\n",
       "      <th>C</th>\n",
       "      <th>D</th>\n",
       "    </tr>\n",
       "  </thead>\n",
       "  <tbody>\n",
       "    <tr>\n",
       "      <td>2021-02-21</td>\n",
       "      <td>1.363210</td>\n",
       "      <td>-1.968236</td>\n",
       "      <td>-0.862669</td>\n",
       "      <td>1.241813</td>\n",
       "    </tr>\n",
       "    <tr>\n",
       "      <td>2021-02-17</td>\n",
       "      <td>0.863749</td>\n",
       "      <td>-1.232035</td>\n",
       "      <td>-0.082802</td>\n",
       "      <td>0.110710</td>\n",
       "    </tr>\n",
       "    <tr>\n",
       "      <td>2021-02-20</td>\n",
       "      <td>0.862217</td>\n",
       "      <td>-0.543569</td>\n",
       "      <td>0.174998</td>\n",
       "      <td>-0.106426</td>\n",
       "    </tr>\n",
       "    <tr>\n",
       "      <td>2021-02-19</td>\n",
       "      <td>0.253523</td>\n",
       "      <td>-0.030887</td>\n",
       "      <td>0.611111</td>\n",
       "      <td>0.786406</td>\n",
       "    </tr>\n",
       "    <tr>\n",
       "      <td>2021-02-22</td>\n",
       "      <td>-0.264783</td>\n",
       "      <td>0.782279</td>\n",
       "      <td>-0.227397</td>\n",
       "      <td>-0.359445</td>\n",
       "    </tr>\n",
       "    <tr>\n",
       "      <td>2021-02-18</td>\n",
       "      <td>0.351729</td>\n",
       "      <td>1.374050</td>\n",
       "      <td>0.429826</td>\n",
       "      <td>-0.823687</td>\n",
       "    </tr>\n",
       "  </tbody>\n",
       "</table>\n",
       "</div>"
      ],
      "text/plain": [
       "                   A         B         C         D\n",
       "2021-02-21  1.363210 -1.968236 -0.862669  1.241813\n",
       "2021-02-17  0.863749 -1.232035 -0.082802  0.110710\n",
       "2021-02-20  0.862217 -0.543569  0.174998 -0.106426\n",
       "2021-02-19  0.253523 -0.030887  0.611111  0.786406\n",
       "2021-02-22 -0.264783  0.782279 -0.227397 -0.359445\n",
       "2021-02-18  0.351729  1.374050  0.429826 -0.823687"
      ]
     },
     "execution_count": 20,
     "metadata": {},
     "output_type": "execute_result"
    }
   ],
   "source": [
    "df.sort_values(by='B')"
   ]
  },
  {
   "cell_type": "raw",
   "metadata": {},
   "source": [
    "** Getting **"
   ]
  },
  {
   "cell_type": "raw",
   "metadata": {},
   "source": [
    "** Selecting a single column, which yields a Series, equivalent to df.A **"
   ]
  },
  {
   "cell_type": "code",
   "execution_count": 21,
   "metadata": {},
   "outputs": [
    {
     "data": {
      "text/plain": [
       "2021-02-17    0.863749\n",
       "2021-02-18    0.351729\n",
       "2021-02-19    0.253523\n",
       "2021-02-20    0.862217\n",
       "2021-02-21    1.363210\n",
       "2021-02-22   -0.264783\n",
       "Freq: D, Name: A, dtype: float64"
      ]
     },
     "execution_count": 21,
     "metadata": {},
     "output_type": "execute_result"
    }
   ],
   "source": [
    "df['A']"
   ]
  },
  {
   "cell_type": "code",
   "execution_count": 22,
   "metadata": {},
   "outputs": [
    {
     "data": {
      "text/plain": [
       "pandas.core.series.Series"
      ]
     },
     "execution_count": 22,
     "metadata": {},
     "output_type": "execute_result"
    }
   ],
   "source": [
    "type(df['A'])"
   ]
  },
  {
   "cell_type": "raw",
   "metadata": {},
   "source": [
    "** Selecting via [], which slices the rows. **"
   ]
  },
  {
   "cell_type": "code",
   "execution_count": 23,
   "metadata": {},
   "outputs": [
    {
     "data": {
      "text/html": [
       "<div>\n",
       "<style scoped>\n",
       "    .dataframe tbody tr th:only-of-type {\n",
       "        vertical-align: middle;\n",
       "    }\n",
       "\n",
       "    .dataframe tbody tr th {\n",
       "        vertical-align: top;\n",
       "    }\n",
       "\n",
       "    .dataframe thead th {\n",
       "        text-align: right;\n",
       "    }\n",
       "</style>\n",
       "<table border=\"1\" class=\"dataframe\">\n",
       "  <thead>\n",
       "    <tr style=\"text-align: right;\">\n",
       "      <th></th>\n",
       "      <th>A</th>\n",
       "      <th>B</th>\n",
       "      <th>C</th>\n",
       "      <th>D</th>\n",
       "    </tr>\n",
       "  </thead>\n",
       "  <tbody>\n",
       "    <tr>\n",
       "      <td>2021-02-17</td>\n",
       "      <td>0.863749</td>\n",
       "      <td>-1.232035</td>\n",
       "      <td>-0.082802</td>\n",
       "      <td>0.110710</td>\n",
       "    </tr>\n",
       "    <tr>\n",
       "      <td>2021-02-18</td>\n",
       "      <td>0.351729</td>\n",
       "      <td>1.374050</td>\n",
       "      <td>0.429826</td>\n",
       "      <td>-0.823687</td>\n",
       "    </tr>\n",
       "    <tr>\n",
       "      <td>2021-02-19</td>\n",
       "      <td>0.253523</td>\n",
       "      <td>-0.030887</td>\n",
       "      <td>0.611111</td>\n",
       "      <td>0.786406</td>\n",
       "    </tr>\n",
       "  </tbody>\n",
       "</table>\n",
       "</div>"
      ],
      "text/plain": [
       "                   A         B         C         D\n",
       "2021-02-17  0.863749 -1.232035 -0.082802  0.110710\n",
       "2021-02-18  0.351729  1.374050  0.429826 -0.823687\n",
       "2021-02-19  0.253523 -0.030887  0.611111  0.786406"
      ]
     },
     "execution_count": 23,
     "metadata": {},
     "output_type": "execute_result"
    }
   ],
   "source": [
    "df[0:3]"
   ]
  },
  {
   "cell_type": "code",
   "execution_count": 24,
   "metadata": {},
   "outputs": [
    {
     "data": {
      "text/html": [
       "<div>\n",
       "<style scoped>\n",
       "    .dataframe tbody tr th:only-of-type {\n",
       "        vertical-align: middle;\n",
       "    }\n",
       "\n",
       "    .dataframe tbody tr th {\n",
       "        vertical-align: top;\n",
       "    }\n",
       "\n",
       "    .dataframe thead th {\n",
       "        text-align: right;\n",
       "    }\n",
       "</style>\n",
       "<table border=\"1\" class=\"dataframe\">\n",
       "  <thead>\n",
       "    <tr style=\"text-align: right;\">\n",
       "      <th></th>\n",
       "      <th>A</th>\n",
       "      <th>B</th>\n",
       "      <th>C</th>\n",
       "      <th>D</th>\n",
       "    </tr>\n",
       "  </thead>\n",
       "  <tbody>\n",
       "    <tr>\n",
       "      <td>2021-02-17</td>\n",
       "      <td>0.863749</td>\n",
       "      <td>-1.232035</td>\n",
       "      <td>-0.082802</td>\n",
       "      <td>0.110710</td>\n",
       "    </tr>\n",
       "    <tr>\n",
       "      <td>2021-02-18</td>\n",
       "      <td>0.351729</td>\n",
       "      <td>1.374050</td>\n",
       "      <td>0.429826</td>\n",
       "      <td>-0.823687</td>\n",
       "    </tr>\n",
       "    <tr>\n",
       "      <td>2021-02-19</td>\n",
       "      <td>0.253523</td>\n",
       "      <td>-0.030887</td>\n",
       "      <td>0.611111</td>\n",
       "      <td>0.786406</td>\n",
       "    </tr>\n",
       "    <tr>\n",
       "      <td>2021-02-20</td>\n",
       "      <td>0.862217</td>\n",
       "      <td>-0.543569</td>\n",
       "      <td>0.174998</td>\n",
       "      <td>-0.106426</td>\n",
       "    </tr>\n",
       "    <tr>\n",
       "      <td>2021-02-21</td>\n",
       "      <td>1.363210</td>\n",
       "      <td>-1.968236</td>\n",
       "      <td>-0.862669</td>\n",
       "      <td>1.241813</td>\n",
       "    </tr>\n",
       "  </tbody>\n",
       "</table>\n",
       "</div>"
      ],
      "text/plain": [
       "                   A         B         C         D\n",
       "2021-02-17  0.863749 -1.232035 -0.082802  0.110710\n",
       "2021-02-18  0.351729  1.374050  0.429826 -0.823687\n",
       "2021-02-19  0.253523 -0.030887  0.611111  0.786406\n",
       "2021-02-20  0.862217 -0.543569  0.174998 -0.106426\n",
       "2021-02-21  1.363210 -1.968236 -0.862669  1.241813"
      ]
     },
     "execution_count": 24,
     "metadata": {},
     "output_type": "execute_result"
    }
   ],
   "source": [
    "df[:5]"
   ]
  },
  {
   "cell_type": "code",
   "execution_count": 25,
   "metadata": {},
   "outputs": [
    {
     "data": {
      "text/html": [
       "<div>\n",
       "<style scoped>\n",
       "    .dataframe tbody tr th:only-of-type {\n",
       "        vertical-align: middle;\n",
       "    }\n",
       "\n",
       "    .dataframe tbody tr th {\n",
       "        vertical-align: top;\n",
       "    }\n",
       "\n",
       "    .dataframe thead th {\n",
       "        text-align: right;\n",
       "    }\n",
       "</style>\n",
       "<table border=\"1\" class=\"dataframe\">\n",
       "  <thead>\n",
       "    <tr style=\"text-align: right;\">\n",
       "      <th></th>\n",
       "      <th>A</th>\n",
       "      <th>B</th>\n",
       "      <th>C</th>\n",
       "      <th>D</th>\n",
       "    </tr>\n",
       "  </thead>\n",
       "  <tbody>\n",
       "    <tr>\n",
       "      <td>2021-02-17</td>\n",
       "      <td>0.863749</td>\n",
       "      <td>-1.232035</td>\n",
       "      <td>-0.082802</td>\n",
       "      <td>0.110710</td>\n",
       "    </tr>\n",
       "    <tr>\n",
       "      <td>2021-02-19</td>\n",
       "      <td>0.253523</td>\n",
       "      <td>-0.030887</td>\n",
       "      <td>0.611111</td>\n",
       "      <td>0.786406</td>\n",
       "    </tr>\n",
       "    <tr>\n",
       "      <td>2021-02-21</td>\n",
       "      <td>1.363210</td>\n",
       "      <td>-1.968236</td>\n",
       "      <td>-0.862669</td>\n",
       "      <td>1.241813</td>\n",
       "    </tr>\n",
       "  </tbody>\n",
       "</table>\n",
       "</div>"
      ],
      "text/plain": [
       "                   A         B         C         D\n",
       "2021-02-17  0.863749 -1.232035 -0.082802  0.110710\n",
       "2021-02-19  0.253523 -0.030887  0.611111  0.786406\n",
       "2021-02-21  1.363210 -1.968236 -0.862669  1.241813"
      ]
     },
     "execution_count": 25,
     "metadata": {},
     "output_type": "execute_result"
    }
   ],
   "source": [
    "df[::2]"
   ]
  },
  {
   "cell_type": "code",
   "execution_count": 26,
   "metadata": {},
   "outputs": [
    {
     "data": {
      "text/html": [
       "<div>\n",
       "<style scoped>\n",
       "    .dataframe tbody tr th:only-of-type {\n",
       "        vertical-align: middle;\n",
       "    }\n",
       "\n",
       "    .dataframe tbody tr th {\n",
       "        vertical-align: top;\n",
       "    }\n",
       "\n",
       "    .dataframe thead th {\n",
       "        text-align: right;\n",
       "    }\n",
       "</style>\n",
       "<table border=\"1\" class=\"dataframe\">\n",
       "  <thead>\n",
       "    <tr style=\"text-align: right;\">\n",
       "      <th></th>\n",
       "      <th>A</th>\n",
       "      <th>B</th>\n",
       "      <th>C</th>\n",
       "      <th>D</th>\n",
       "    </tr>\n",
       "  </thead>\n",
       "  <tbody>\n",
       "    <tr>\n",
       "      <td>2021-02-22</td>\n",
       "      <td>-0.264783</td>\n",
       "      <td>0.782279</td>\n",
       "      <td>-0.227397</td>\n",
       "      <td>-0.359445</td>\n",
       "    </tr>\n",
       "    <tr>\n",
       "      <td>2021-02-21</td>\n",
       "      <td>1.363210</td>\n",
       "      <td>-1.968236</td>\n",
       "      <td>-0.862669</td>\n",
       "      <td>1.241813</td>\n",
       "    </tr>\n",
       "    <tr>\n",
       "      <td>2021-02-20</td>\n",
       "      <td>0.862217</td>\n",
       "      <td>-0.543569</td>\n",
       "      <td>0.174998</td>\n",
       "      <td>-0.106426</td>\n",
       "    </tr>\n",
       "    <tr>\n",
       "      <td>2021-02-19</td>\n",
       "      <td>0.253523</td>\n",
       "      <td>-0.030887</td>\n",
       "      <td>0.611111</td>\n",
       "      <td>0.786406</td>\n",
       "    </tr>\n",
       "    <tr>\n",
       "      <td>2021-02-18</td>\n",
       "      <td>0.351729</td>\n",
       "      <td>1.374050</td>\n",
       "      <td>0.429826</td>\n",
       "      <td>-0.823687</td>\n",
       "    </tr>\n",
       "    <tr>\n",
       "      <td>2021-02-17</td>\n",
       "      <td>0.863749</td>\n",
       "      <td>-1.232035</td>\n",
       "      <td>-0.082802</td>\n",
       "      <td>0.110710</td>\n",
       "    </tr>\n",
       "  </tbody>\n",
       "</table>\n",
       "</div>"
      ],
      "text/plain": [
       "                   A         B         C         D\n",
       "2021-02-22 -0.264783  0.782279 -0.227397 -0.359445\n",
       "2021-02-21  1.363210 -1.968236 -0.862669  1.241813\n",
       "2021-02-20  0.862217 -0.543569  0.174998 -0.106426\n",
       "2021-02-19  0.253523 -0.030887  0.611111  0.786406\n",
       "2021-02-18  0.351729  1.374050  0.429826 -0.823687\n",
       "2021-02-17  0.863749 -1.232035 -0.082802  0.110710"
      ]
     },
     "execution_count": 26,
     "metadata": {},
     "output_type": "execute_result"
    }
   ],
   "source": [
    "df[::-1]"
   ]
  },
  {
   "cell_type": "raw",
   "metadata": {},
   "source": [
    "** Selection by Label **"
   ]
  },
  {
   "cell_type": "code",
   "execution_count": 27,
   "metadata": {},
   "outputs": [
    {
     "data": {
      "text/plain": [
       "A    0.863749\n",
       "B   -1.232035\n",
       "C   -0.082802\n",
       "D    0.110710\n",
       "Name: 2021-02-17 00:00:00, dtype: float64"
      ]
     },
     "execution_count": 27,
     "metadata": {},
     "output_type": "execute_result"
    }
   ],
   "source": [
    "df.loc[dates[0]]"
   ]
  },
  {
   "cell_type": "code",
   "execution_count": 28,
   "metadata": {},
   "outputs": [
    {
     "data": {
      "text/html": [
       "<div>\n",
       "<style scoped>\n",
       "    .dataframe tbody tr th:only-of-type {\n",
       "        vertical-align: middle;\n",
       "    }\n",
       "\n",
       "    .dataframe tbody tr th {\n",
       "        vertical-align: top;\n",
       "    }\n",
       "\n",
       "    .dataframe thead th {\n",
       "        text-align: right;\n",
       "    }\n",
       "</style>\n",
       "<table border=\"1\" class=\"dataframe\">\n",
       "  <thead>\n",
       "    <tr style=\"text-align: right;\">\n",
       "      <th></th>\n",
       "      <th>A</th>\n",
       "      <th>B</th>\n",
       "    </tr>\n",
       "  </thead>\n",
       "  <tbody>\n",
       "    <tr>\n",
       "      <td>2021-02-17</td>\n",
       "      <td>0.863749</td>\n",
       "      <td>-1.232035</td>\n",
       "    </tr>\n",
       "    <tr>\n",
       "      <td>2021-02-18</td>\n",
       "      <td>0.351729</td>\n",
       "      <td>1.374050</td>\n",
       "    </tr>\n",
       "    <tr>\n",
       "      <td>2021-02-19</td>\n",
       "      <td>0.253523</td>\n",
       "      <td>-0.030887</td>\n",
       "    </tr>\n",
       "    <tr>\n",
       "      <td>2021-02-20</td>\n",
       "      <td>0.862217</td>\n",
       "      <td>-0.543569</td>\n",
       "    </tr>\n",
       "    <tr>\n",
       "      <td>2021-02-21</td>\n",
       "      <td>1.363210</td>\n",
       "      <td>-1.968236</td>\n",
       "    </tr>\n",
       "    <tr>\n",
       "      <td>2021-02-22</td>\n",
       "      <td>-0.264783</td>\n",
       "      <td>0.782279</td>\n",
       "    </tr>\n",
       "  </tbody>\n",
       "</table>\n",
       "</div>"
      ],
      "text/plain": [
       "                   A         B\n",
       "2021-02-17  0.863749 -1.232035\n",
       "2021-02-18  0.351729  1.374050\n",
       "2021-02-19  0.253523 -0.030887\n",
       "2021-02-20  0.862217 -0.543569\n",
       "2021-02-21  1.363210 -1.968236\n",
       "2021-02-22 -0.264783  0.782279"
      ]
     },
     "execution_count": 28,
     "metadata": {},
     "output_type": "execute_result"
    }
   ],
   "source": [
    "df.loc[:,['A','B']] # Selecting on a multi-axis by label."
   ]
  },
  {
   "cell_type": "code",
   "execution_count": 29,
   "metadata": {},
   "outputs": [
    {
     "data": {
      "text/html": [
       "<div>\n",
       "<style scoped>\n",
       "    .dataframe tbody tr th:only-of-type {\n",
       "        vertical-align: middle;\n",
       "    }\n",
       "\n",
       "    .dataframe tbody tr th {\n",
       "        vertical-align: top;\n",
       "    }\n",
       "\n",
       "    .dataframe thead th {\n",
       "        text-align: right;\n",
       "    }\n",
       "</style>\n",
       "<table border=\"1\" class=\"dataframe\">\n",
       "  <thead>\n",
       "    <tr style=\"text-align: right;\">\n",
       "      <th></th>\n",
       "      <th>A</th>\n",
       "      <th>B</th>\n",
       "    </tr>\n",
       "  </thead>\n",
       "  <tbody>\n",
       "    <tr>\n",
       "      <td>2021-02-18</td>\n",
       "      <td>0.351729</td>\n",
       "      <td>1.374050</td>\n",
       "    </tr>\n",
       "    <tr>\n",
       "      <td>2021-02-19</td>\n",
       "      <td>0.253523</td>\n",
       "      <td>-0.030887</td>\n",
       "    </tr>\n",
       "    <tr>\n",
       "      <td>2021-02-20</td>\n",
       "      <td>0.862217</td>\n",
       "      <td>-0.543569</td>\n",
       "    </tr>\n",
       "    <tr>\n",
       "      <td>2021-02-21</td>\n",
       "      <td>1.363210</td>\n",
       "      <td>-1.968236</td>\n",
       "    </tr>\n",
       "    <tr>\n",
       "      <td>2021-02-22</td>\n",
       "      <td>-0.264783</td>\n",
       "      <td>0.782279</td>\n",
       "    </tr>\n",
       "  </tbody>\n",
       "</table>\n",
       "</div>"
      ],
      "text/plain": [
       "                   A         B\n",
       "2021-02-18  0.351729  1.374050\n",
       "2021-02-19  0.253523 -0.030887\n",
       "2021-02-20  0.862217 -0.543569\n",
       "2021-02-21  1.363210 -1.968236\n",
       "2021-02-22 -0.264783  0.782279"
      ]
     },
     "execution_count": 29,
     "metadata": {},
     "output_type": "execute_result"
    }
   ],
   "source": [
    "df.loc['20210218':'20210222',['A','B']]"
   ]
  },
  {
   "cell_type": "raw",
   "metadata": {},
   "source": [
    "** For getting a scalar value**\n",
    "Scalars are single values representing one unit of data, such as an integer or bool."
   ]
  },
  {
   "cell_type": "raw",
   "metadata": {},
   "source": [
    "** Get value at specified row/column pair **"
   ]
  },
  {
   "cell_type": "code",
   "execution_count": 30,
   "metadata": {},
   "outputs": [
    {
     "data": {
      "text/plain": [
       "0.8637491658417635"
      ]
     },
     "execution_count": 30,
     "metadata": {},
     "output_type": "execute_result"
    }
   ],
   "source": [
    "df.loc[dates[0],'A']"
   ]
  },
  {
   "cell_type": "code",
   "execution_count": 31,
   "metadata": {},
   "outputs": [
    {
     "data": {
      "text/plain": [
       "0.8637491658417635"
      ]
     },
     "execution_count": 31,
     "metadata": {},
     "output_type": "execute_result"
    }
   ],
   "source": [
    "df.at[dates[0],'A']"
   ]
  },
  {
   "cell_type": "raw",
   "metadata": {},
   "source": [
    "** Set value at specified row/column pair **"
   ]
  },
  {
   "cell_type": "code",
   "execution_count": 32,
   "metadata": {},
   "outputs": [
    {
     "data": {
      "text/html": [
       "<div>\n",
       "<style scoped>\n",
       "    .dataframe tbody tr th:only-of-type {\n",
       "        vertical-align: middle;\n",
       "    }\n",
       "\n",
       "    .dataframe tbody tr th {\n",
       "        vertical-align: top;\n",
       "    }\n",
       "\n",
       "    .dataframe thead th {\n",
       "        text-align: right;\n",
       "    }\n",
       "</style>\n",
       "<table border=\"1\" class=\"dataframe\">\n",
       "  <thead>\n",
       "    <tr style=\"text-align: right;\">\n",
       "      <th></th>\n",
       "      <th>A</th>\n",
       "      <th>B</th>\n",
       "      <th>C</th>\n",
       "      <th>D</th>\n",
       "    </tr>\n",
       "  </thead>\n",
       "  <tbody>\n",
       "    <tr>\n",
       "      <td>2021-02-17</td>\n",
       "      <td>12.000000</td>\n",
       "      <td>-1.232035</td>\n",
       "      <td>-0.082802</td>\n",
       "      <td>0.110710</td>\n",
       "    </tr>\n",
       "    <tr>\n",
       "      <td>2021-02-18</td>\n",
       "      <td>0.351729</td>\n",
       "      <td>1.374050</td>\n",
       "      <td>0.429826</td>\n",
       "      <td>-0.823687</td>\n",
       "    </tr>\n",
       "    <tr>\n",
       "      <td>2021-02-19</td>\n",
       "      <td>0.253523</td>\n",
       "      <td>-0.030887</td>\n",
       "      <td>0.611111</td>\n",
       "      <td>0.786406</td>\n",
       "    </tr>\n",
       "    <tr>\n",
       "      <td>2021-02-20</td>\n",
       "      <td>0.862217</td>\n",
       "      <td>-0.543569</td>\n",
       "      <td>0.174998</td>\n",
       "      <td>-0.106426</td>\n",
       "    </tr>\n",
       "    <tr>\n",
       "      <td>2021-02-21</td>\n",
       "      <td>1.363210</td>\n",
       "      <td>-1.968236</td>\n",
       "      <td>-0.862669</td>\n",
       "      <td>1.241813</td>\n",
       "    </tr>\n",
       "    <tr>\n",
       "      <td>2021-02-22</td>\n",
       "      <td>-0.264783</td>\n",
       "      <td>0.782279</td>\n",
       "      <td>-0.227397</td>\n",
       "      <td>-0.359445</td>\n",
       "    </tr>\n",
       "  </tbody>\n",
       "</table>\n",
       "</div>"
      ],
      "text/plain": [
       "                    A         B         C         D\n",
       "2021-02-17  12.000000 -1.232035 -0.082802  0.110710\n",
       "2021-02-18   0.351729  1.374050  0.429826 -0.823687\n",
       "2021-02-19   0.253523 -0.030887  0.611111  0.786406\n",
       "2021-02-20   0.862217 -0.543569  0.174998 -0.106426\n",
       "2021-02-21   1.363210 -1.968236 -0.862669  1.241813\n",
       "2021-02-22  -0.264783  0.782279 -0.227397 -0.359445"
      ]
     },
     "execution_count": 32,
     "metadata": {},
     "output_type": "execute_result"
    }
   ],
   "source": [
    "df.at[dates[0],'A']=12\n",
    "df"
   ]
  },
  {
   "cell_type": "raw",
   "metadata": {},
   "source": [
    "** Selection by Position **"
   ]
  },
  {
   "cell_type": "code",
   "execution_count": 33,
   "metadata": {},
   "outputs": [
    {
     "data": {
      "text/plain": [
       "A    0.253523\n",
       "B   -0.030887\n",
       "C    0.611111\n",
       "D    0.786406\n",
       "Name: 2021-02-19 00:00:00, dtype: float64"
      ]
     },
     "execution_count": 33,
     "metadata": {},
     "output_type": "execute_result"
    }
   ],
   "source": [
    "df.iloc[2]"
   ]
  },
  {
   "cell_type": "code",
   "execution_count": 34,
   "metadata": {},
   "outputs": [
    {
     "data": {
      "text/html": [
       "<div>\n",
       "<style scoped>\n",
       "    .dataframe tbody tr th:only-of-type {\n",
       "        vertical-align: middle;\n",
       "    }\n",
       "\n",
       "    .dataframe tbody tr th {\n",
       "        vertical-align: top;\n",
       "    }\n",
       "\n",
       "    .dataframe thead th {\n",
       "        text-align: right;\n",
       "    }\n",
       "</style>\n",
       "<table border=\"1\" class=\"dataframe\">\n",
       "  <thead>\n",
       "    <tr style=\"text-align: right;\">\n",
       "      <th></th>\n",
       "      <th>A</th>\n",
       "      <th>B</th>\n",
       "      <th>C</th>\n",
       "      <th>D</th>\n",
       "    </tr>\n",
       "  </thead>\n",
       "  <tbody>\n",
       "    <tr>\n",
       "      <td>2021-02-19</td>\n",
       "      <td>0.253523</td>\n",
       "      <td>-0.030887</td>\n",
       "      <td>0.611111</td>\n",
       "      <td>0.786406</td>\n",
       "    </tr>\n",
       "    <tr>\n",
       "      <td>2021-02-21</td>\n",
       "      <td>1.363210</td>\n",
       "      <td>-1.968236</td>\n",
       "      <td>-0.862669</td>\n",
       "      <td>1.241813</td>\n",
       "    </tr>\n",
       "  </tbody>\n",
       "</table>\n",
       "</div>"
      ],
      "text/plain": [
       "                   A         B         C         D\n",
       "2021-02-19  0.253523 -0.030887  0.611111  0.786406\n",
       "2021-02-21  1.363210 -1.968236 -0.862669  1.241813"
      ]
     },
     "execution_count": 34,
     "metadata": {},
     "output_type": "execute_result"
    }
   ],
   "source": [
    "df.iloc[[2,4]]"
   ]
  },
  {
   "cell_type": "code",
   "execution_count": 35,
   "metadata": {},
   "outputs": [
    {
     "data": {
      "text/html": [
       "<div>\n",
       "<style scoped>\n",
       "    .dataframe tbody tr th:only-of-type {\n",
       "        vertical-align: middle;\n",
       "    }\n",
       "\n",
       "    .dataframe tbody tr th {\n",
       "        vertical-align: top;\n",
       "    }\n",
       "\n",
       "    .dataframe thead th {\n",
       "        text-align: right;\n",
       "    }\n",
       "</style>\n",
       "<table border=\"1\" class=\"dataframe\">\n",
       "  <thead>\n",
       "    <tr style=\"text-align: right;\">\n",
       "      <th></th>\n",
       "      <th>C</th>\n",
       "      <th>D</th>\n",
       "    </tr>\n",
       "  </thead>\n",
       "  <tbody>\n",
       "    <tr>\n",
       "      <td>2021-02-18</td>\n",
       "      <td>0.429826</td>\n",
       "      <td>-0.823687</td>\n",
       "    </tr>\n",
       "    <tr>\n",
       "      <td>2021-02-19</td>\n",
       "      <td>0.611111</td>\n",
       "      <td>0.786406</td>\n",
       "    </tr>\n",
       "    <tr>\n",
       "      <td>2021-02-20</td>\n",
       "      <td>0.174998</td>\n",
       "      <td>-0.106426</td>\n",
       "    </tr>\n",
       "  </tbody>\n",
       "</table>\n",
       "</div>"
      ],
      "text/plain": [
       "                   C         D\n",
       "2021-02-18  0.429826 -0.823687\n",
       "2021-02-19  0.611111  0.786406\n",
       "2021-02-20  0.174998 -0.106426"
      ]
     },
     "execution_count": 35,
     "metadata": {},
     "output_type": "execute_result"
    }
   ],
   "source": [
    "df.iloc[1:4,2:4]"
   ]
  },
  {
   "cell_type": "code",
   "execution_count": 36,
   "metadata": {},
   "outputs": [
    {
     "data": {
      "text/html": [
       "<div>\n",
       "<style scoped>\n",
       "    .dataframe tbody tr th:only-of-type {\n",
       "        vertical-align: middle;\n",
       "    }\n",
       "\n",
       "    .dataframe tbody tr th {\n",
       "        vertical-align: top;\n",
       "    }\n",
       "\n",
       "    .dataframe thead th {\n",
       "        text-align: right;\n",
       "    }\n",
       "</style>\n",
       "<table border=\"1\" class=\"dataframe\">\n",
       "  <thead>\n",
       "    <tr style=\"text-align: right;\">\n",
       "      <th></th>\n",
       "      <th>B</th>\n",
       "      <th>C</th>\n",
       "      <th>D</th>\n",
       "    </tr>\n",
       "  </thead>\n",
       "  <tbody>\n",
       "    <tr>\n",
       "      <td>2021-02-22</td>\n",
       "      <td>0.782279</td>\n",
       "      <td>-0.227397</td>\n",
       "      <td>-0.359445</td>\n",
       "    </tr>\n",
       "    <tr>\n",
       "      <td>2021-02-21</td>\n",
       "      <td>-1.968236</td>\n",
       "      <td>-0.862669</td>\n",
       "      <td>1.241813</td>\n",
       "    </tr>\n",
       "    <tr>\n",
       "      <td>2021-02-20</td>\n",
       "      <td>-0.543569</td>\n",
       "      <td>0.174998</td>\n",
       "      <td>-0.106426</td>\n",
       "    </tr>\n",
       "    <tr>\n",
       "      <td>2021-02-19</td>\n",
       "      <td>-0.030887</td>\n",
       "      <td>0.611111</td>\n",
       "      <td>0.786406</td>\n",
       "    </tr>\n",
       "    <tr>\n",
       "      <td>2021-02-18</td>\n",
       "      <td>1.374050</td>\n",
       "      <td>0.429826</td>\n",
       "      <td>-0.823687</td>\n",
       "    </tr>\n",
       "    <tr>\n",
       "      <td>2021-02-17</td>\n",
       "      <td>-1.232035</td>\n",
       "      <td>-0.082802</td>\n",
       "      <td>0.110710</td>\n",
       "    </tr>\n",
       "  </tbody>\n",
       "</table>\n",
       "</div>"
      ],
      "text/plain": [
       "                   B         C         D\n",
       "2021-02-22  0.782279 -0.227397 -0.359445\n",
       "2021-02-21 -1.968236 -0.862669  1.241813\n",
       "2021-02-20 -0.543569  0.174998 -0.106426\n",
       "2021-02-19 -0.030887  0.611111  0.786406\n",
       "2021-02-18  1.374050  0.429826 -0.823687\n",
       "2021-02-17 -1.232035 -0.082802  0.110710"
      ]
     },
     "execution_count": 36,
     "metadata": {},
     "output_type": "execute_result"
    }
   ],
   "source": [
    "df.iloc[::-1,1:4:1]"
   ]
  },
  {
   "cell_type": "code",
   "execution_count": 37,
   "metadata": {},
   "outputs": [
    {
     "data": {
      "text/html": [
       "<div>\n",
       "<style scoped>\n",
       "    .dataframe tbody tr th:only-of-type {\n",
       "        vertical-align: middle;\n",
       "    }\n",
       "\n",
       "    .dataframe tbody tr th {\n",
       "        vertical-align: top;\n",
       "    }\n",
       "\n",
       "    .dataframe thead th {\n",
       "        text-align: right;\n",
       "    }\n",
       "</style>\n",
       "<table border=\"1\" class=\"dataframe\">\n",
       "  <thead>\n",
       "    <tr style=\"text-align: right;\">\n",
       "      <th></th>\n",
       "      <th>A</th>\n",
       "      <th>B</th>\n",
       "      <th>C</th>\n",
       "      <th>D</th>\n",
       "    </tr>\n",
       "  </thead>\n",
       "  <tbody>\n",
       "    <tr>\n",
       "      <td>2021-02-18</td>\n",
       "      <td>0.351729</td>\n",
       "      <td>1.374050</td>\n",
       "      <td>0.429826</td>\n",
       "      <td>-0.823687</td>\n",
       "    </tr>\n",
       "    <tr>\n",
       "      <td>2021-02-19</td>\n",
       "      <td>0.253523</td>\n",
       "      <td>-0.030887</td>\n",
       "      <td>0.611111</td>\n",
       "      <td>0.786406</td>\n",
       "    </tr>\n",
       "  </tbody>\n",
       "</table>\n",
       "</div>"
      ],
      "text/plain": [
       "                   A         B         C         D\n",
       "2021-02-18  0.351729  1.374050  0.429826 -0.823687\n",
       "2021-02-19  0.253523 -0.030887  0.611111  0.786406"
      ]
     },
     "execution_count": 37,
     "metadata": {},
     "output_type": "execute_result"
    }
   ],
   "source": [
    "df.iloc[1:3,:]"
   ]
  },
  {
   "cell_type": "code",
   "execution_count": 38,
   "metadata": {},
   "outputs": [
    {
     "data": {
      "text/plain": [
       "0.42982569146288274"
      ]
     },
     "execution_count": 38,
     "metadata": {},
     "output_type": "execute_result"
    }
   ],
   "source": [
    "df.iat[1,2]"
   ]
  },
  {
   "cell_type": "code",
   "execution_count": 39,
   "metadata": {},
   "outputs": [],
   "source": [
    "df1=pd.DataFrame([[1,2,3],[4,5,6],[7,8,9]],columns=['A','B','C'])"
   ]
  },
  {
   "cell_type": "code",
   "execution_count": 40,
   "metadata": {},
   "outputs": [
    {
     "data": {
      "text/html": [
       "<div>\n",
       "<style scoped>\n",
       "    .dataframe tbody tr th:only-of-type {\n",
       "        vertical-align: middle;\n",
       "    }\n",
       "\n",
       "    .dataframe tbody tr th {\n",
       "        vertical-align: top;\n",
       "    }\n",
       "\n",
       "    .dataframe thead th {\n",
       "        text-align: right;\n",
       "    }\n",
       "</style>\n",
       "<table border=\"1\" class=\"dataframe\">\n",
       "  <thead>\n",
       "    <tr style=\"text-align: right;\">\n",
       "      <th></th>\n",
       "      <th>A</th>\n",
       "      <th>B</th>\n",
       "      <th>C</th>\n",
       "    </tr>\n",
       "  </thead>\n",
       "  <tbody>\n",
       "    <tr>\n",
       "      <td>0</td>\n",
       "      <td>1</td>\n",
       "      <td>2</td>\n",
       "      <td>3</td>\n",
       "    </tr>\n",
       "    <tr>\n",
       "      <td>1</td>\n",
       "      <td>4</td>\n",
       "      <td>5</td>\n",
       "      <td>6</td>\n",
       "    </tr>\n",
       "    <tr>\n",
       "      <td>2</td>\n",
       "      <td>7</td>\n",
       "      <td>8</td>\n",
       "      <td>9</td>\n",
       "    </tr>\n",
       "  </tbody>\n",
       "</table>\n",
       "</div>"
      ],
      "text/plain": [
       "   A  B  C\n",
       "0  1  2  3\n",
       "1  4  5  6\n",
       "2  7  8  9"
      ]
     },
     "execution_count": 40,
     "metadata": {},
     "output_type": "execute_result"
    }
   ],
   "source": [
    "df1"
   ]
  },
  {
   "cell_type": "code",
   "execution_count": 41,
   "metadata": {},
   "outputs": [
    {
     "data": {
      "text/plain": [
       "6"
      ]
     },
     "execution_count": 41,
     "metadata": {},
     "output_type": "execute_result"
    }
   ],
   "source": [
    "df1.iat[1,2]"
   ]
  },
  {
   "cell_type": "code",
   "execution_count": 42,
   "metadata": {},
   "outputs": [
    {
     "data": {
      "text/plain": [
       "5"
      ]
     },
     "execution_count": 42,
     "metadata": {},
     "output_type": "execute_result"
    }
   ],
   "source": [
    "df1.iat[1,1]"
   ]
  },
  {
   "cell_type": "raw",
   "metadata": {},
   "source": [
    "** Boolean Indexing **"
   ]
  },
  {
   "cell_type": "code",
   "execution_count": 43,
   "metadata": {},
   "outputs": [
    {
     "data": {
      "text/html": [
       "<div>\n",
       "<style scoped>\n",
       "    .dataframe tbody tr th:only-of-type {\n",
       "        vertical-align: middle;\n",
       "    }\n",
       "\n",
       "    .dataframe tbody tr th {\n",
       "        vertical-align: top;\n",
       "    }\n",
       "\n",
       "    .dataframe thead th {\n",
       "        text-align: right;\n",
       "    }\n",
       "</style>\n",
       "<table border=\"1\" class=\"dataframe\">\n",
       "  <thead>\n",
       "    <tr style=\"text-align: right;\">\n",
       "      <th></th>\n",
       "      <th>A</th>\n",
       "      <th>B</th>\n",
       "      <th>C</th>\n",
       "      <th>D</th>\n",
       "    </tr>\n",
       "  </thead>\n",
       "  <tbody>\n",
       "    <tr>\n",
       "      <td>2021-02-17</td>\n",
       "      <td>12.00000</td>\n",
       "      <td>-1.232035</td>\n",
       "      <td>-0.082802</td>\n",
       "      <td>0.110710</td>\n",
       "    </tr>\n",
       "    <tr>\n",
       "      <td>2021-02-21</td>\n",
       "      <td>1.36321</td>\n",
       "      <td>-1.968236</td>\n",
       "      <td>-0.862669</td>\n",
       "      <td>1.241813</td>\n",
       "    </tr>\n",
       "  </tbody>\n",
       "</table>\n",
       "</div>"
      ],
      "text/plain": [
       "                   A         B         C         D\n",
       "2021-02-17  12.00000 -1.232035 -0.082802  0.110710\n",
       "2021-02-21   1.36321 -1.968236 -0.862669  1.241813"
      ]
     },
     "execution_count": 43,
     "metadata": {},
     "output_type": "execute_result"
    }
   ],
   "source": [
    "df[df.A>1]"
   ]
  },
  {
   "cell_type": "code",
   "execution_count": 44,
   "metadata": {},
   "outputs": [
    {
     "data": {
      "text/html": [
       "<div>\n",
       "<style scoped>\n",
       "    .dataframe tbody tr th:only-of-type {\n",
       "        vertical-align: middle;\n",
       "    }\n",
       "\n",
       "    .dataframe tbody tr th {\n",
       "        vertical-align: top;\n",
       "    }\n",
       "\n",
       "    .dataframe thead th {\n",
       "        text-align: right;\n",
       "    }\n",
       "</style>\n",
       "<table border=\"1\" class=\"dataframe\">\n",
       "  <thead>\n",
       "    <tr style=\"text-align: right;\">\n",
       "      <th></th>\n",
       "      <th>A</th>\n",
       "      <th>B</th>\n",
       "      <th>C</th>\n",
       "      <th>D</th>\n",
       "    </tr>\n",
       "  </thead>\n",
       "  <tbody>\n",
       "    <tr>\n",
       "      <td>2021-02-17</td>\n",
       "      <td>12.000000</td>\n",
       "      <td>NaN</td>\n",
       "      <td>NaN</td>\n",
       "      <td>0.110710</td>\n",
       "    </tr>\n",
       "    <tr>\n",
       "      <td>2021-02-18</td>\n",
       "      <td>0.351729</td>\n",
       "      <td>1.374050</td>\n",
       "      <td>0.429826</td>\n",
       "      <td>NaN</td>\n",
       "    </tr>\n",
       "    <tr>\n",
       "      <td>2021-02-19</td>\n",
       "      <td>0.253523</td>\n",
       "      <td>NaN</td>\n",
       "      <td>0.611111</td>\n",
       "      <td>0.786406</td>\n",
       "    </tr>\n",
       "    <tr>\n",
       "      <td>2021-02-20</td>\n",
       "      <td>0.862217</td>\n",
       "      <td>NaN</td>\n",
       "      <td>0.174998</td>\n",
       "      <td>NaN</td>\n",
       "    </tr>\n",
       "    <tr>\n",
       "      <td>2021-02-21</td>\n",
       "      <td>1.363210</td>\n",
       "      <td>NaN</td>\n",
       "      <td>NaN</td>\n",
       "      <td>1.241813</td>\n",
       "    </tr>\n",
       "    <tr>\n",
       "      <td>2021-02-22</td>\n",
       "      <td>NaN</td>\n",
       "      <td>0.782279</td>\n",
       "      <td>NaN</td>\n",
       "      <td>NaN</td>\n",
       "    </tr>\n",
       "  </tbody>\n",
       "</table>\n",
       "</div>"
      ],
      "text/plain": [
       "                    A         B         C         D\n",
       "2021-02-17  12.000000       NaN       NaN  0.110710\n",
       "2021-02-18   0.351729  1.374050  0.429826       NaN\n",
       "2021-02-19   0.253523       NaN  0.611111  0.786406\n",
       "2021-02-20   0.862217       NaN  0.174998       NaN\n",
       "2021-02-21   1.363210       NaN       NaN  1.241813\n",
       "2021-02-22        NaN  0.782279       NaN       NaN"
      ]
     },
     "execution_count": 44,
     "metadata": {},
     "output_type": "execute_result"
    }
   ],
   "source": [
    "df[df>0]"
   ]
  },
  {
   "cell_type": "raw",
   "metadata": {},
   "source": [
    "** Using the isin() method for filtering: **"
   ]
  },
  {
   "cell_type": "code",
   "execution_count": 45,
   "metadata": {},
   "outputs": [
    {
     "data": {
      "text/html": [
       "<div>\n",
       "<style scoped>\n",
       "    .dataframe tbody tr th:only-of-type {\n",
       "        vertical-align: middle;\n",
       "    }\n",
       "\n",
       "    .dataframe tbody tr th {\n",
       "        vertical-align: top;\n",
       "    }\n",
       "\n",
       "    .dataframe thead th {\n",
       "        text-align: right;\n",
       "    }\n",
       "</style>\n",
       "<table border=\"1\" class=\"dataframe\">\n",
       "  <thead>\n",
       "    <tr style=\"text-align: right;\">\n",
       "      <th></th>\n",
       "      <th>A</th>\n",
       "      <th>B</th>\n",
       "      <th>C</th>\n",
       "      <th>D</th>\n",
       "    </tr>\n",
       "  </thead>\n",
       "  <tbody>\n",
       "    <tr>\n",
       "      <td>2021-02-17</td>\n",
       "      <td>12.000000</td>\n",
       "      <td>-1.232035</td>\n",
       "      <td>-0.082802</td>\n",
       "      <td>0.110710</td>\n",
       "    </tr>\n",
       "    <tr>\n",
       "      <td>2021-02-18</td>\n",
       "      <td>0.351729</td>\n",
       "      <td>1.374050</td>\n",
       "      <td>0.429826</td>\n",
       "      <td>-0.823687</td>\n",
       "    </tr>\n",
       "    <tr>\n",
       "      <td>2021-02-19</td>\n",
       "      <td>0.253523</td>\n",
       "      <td>-0.030887</td>\n",
       "      <td>0.611111</td>\n",
       "      <td>0.786406</td>\n",
       "    </tr>\n",
       "    <tr>\n",
       "      <td>2021-02-20</td>\n",
       "      <td>0.862217</td>\n",
       "      <td>-0.543569</td>\n",
       "      <td>0.174998</td>\n",
       "      <td>-0.106426</td>\n",
       "    </tr>\n",
       "    <tr>\n",
       "      <td>2021-02-21</td>\n",
       "      <td>1.363210</td>\n",
       "      <td>-1.968236</td>\n",
       "      <td>-0.862669</td>\n",
       "      <td>1.241813</td>\n",
       "    </tr>\n",
       "    <tr>\n",
       "      <td>2021-02-22</td>\n",
       "      <td>-0.264783</td>\n",
       "      <td>0.782279</td>\n",
       "      <td>-0.227397</td>\n",
       "      <td>-0.359445</td>\n",
       "    </tr>\n",
       "  </tbody>\n",
       "</table>\n",
       "</div>"
      ],
      "text/plain": [
       "                    A         B         C         D\n",
       "2021-02-17  12.000000 -1.232035 -0.082802  0.110710\n",
       "2021-02-18   0.351729  1.374050  0.429826 -0.823687\n",
       "2021-02-19   0.253523 -0.030887  0.611111  0.786406\n",
       "2021-02-20   0.862217 -0.543569  0.174998 -0.106426\n",
       "2021-02-21   1.363210 -1.968236 -0.862669  1.241813\n",
       "2021-02-22  -0.264783  0.782279 -0.227397 -0.359445"
      ]
     },
     "execution_count": 45,
     "metadata": {},
     "output_type": "execute_result"
    }
   ],
   "source": [
    "df"
   ]
  },
  {
   "cell_type": "code",
   "execution_count": 46,
   "metadata": {},
   "outputs": [],
   "source": [
    "df['E']=['one','one','two','three','four','three']"
   ]
  },
  {
   "cell_type": "code",
   "execution_count": 47,
   "metadata": {},
   "outputs": [
    {
     "data": {
      "text/html": [
       "<div>\n",
       "<style scoped>\n",
       "    .dataframe tbody tr th:only-of-type {\n",
       "        vertical-align: middle;\n",
       "    }\n",
       "\n",
       "    .dataframe tbody tr th {\n",
       "        vertical-align: top;\n",
       "    }\n",
       "\n",
       "    .dataframe thead th {\n",
       "        text-align: right;\n",
       "    }\n",
       "</style>\n",
       "<table border=\"1\" class=\"dataframe\">\n",
       "  <thead>\n",
       "    <tr style=\"text-align: right;\">\n",
       "      <th></th>\n",
       "      <th>A</th>\n",
       "      <th>B</th>\n",
       "      <th>C</th>\n",
       "      <th>D</th>\n",
       "      <th>E</th>\n",
       "    </tr>\n",
       "  </thead>\n",
       "  <tbody>\n",
       "    <tr>\n",
       "      <td>2021-02-17</td>\n",
       "      <td>12.000000</td>\n",
       "      <td>-1.232035</td>\n",
       "      <td>-0.082802</td>\n",
       "      <td>0.110710</td>\n",
       "      <td>one</td>\n",
       "    </tr>\n",
       "    <tr>\n",
       "      <td>2021-02-18</td>\n",
       "      <td>0.351729</td>\n",
       "      <td>1.374050</td>\n",
       "      <td>0.429826</td>\n",
       "      <td>-0.823687</td>\n",
       "      <td>one</td>\n",
       "    </tr>\n",
       "    <tr>\n",
       "      <td>2021-02-19</td>\n",
       "      <td>0.253523</td>\n",
       "      <td>-0.030887</td>\n",
       "      <td>0.611111</td>\n",
       "      <td>0.786406</td>\n",
       "      <td>two</td>\n",
       "    </tr>\n",
       "    <tr>\n",
       "      <td>2021-02-20</td>\n",
       "      <td>0.862217</td>\n",
       "      <td>-0.543569</td>\n",
       "      <td>0.174998</td>\n",
       "      <td>-0.106426</td>\n",
       "      <td>three</td>\n",
       "    </tr>\n",
       "    <tr>\n",
       "      <td>2021-02-21</td>\n",
       "      <td>1.363210</td>\n",
       "      <td>-1.968236</td>\n",
       "      <td>-0.862669</td>\n",
       "      <td>1.241813</td>\n",
       "      <td>four</td>\n",
       "    </tr>\n",
       "    <tr>\n",
       "      <td>2021-02-22</td>\n",
       "      <td>-0.264783</td>\n",
       "      <td>0.782279</td>\n",
       "      <td>-0.227397</td>\n",
       "      <td>-0.359445</td>\n",
       "      <td>three</td>\n",
       "    </tr>\n",
       "  </tbody>\n",
       "</table>\n",
       "</div>"
      ],
      "text/plain": [
       "                    A         B         C         D      E\n",
       "2021-02-17  12.000000 -1.232035 -0.082802  0.110710    one\n",
       "2021-02-18   0.351729  1.374050  0.429826 -0.823687    one\n",
       "2021-02-19   0.253523 -0.030887  0.611111  0.786406    two\n",
       "2021-02-20   0.862217 -0.543569  0.174998 -0.106426  three\n",
       "2021-02-21   1.363210 -1.968236 -0.862669  1.241813   four\n",
       "2021-02-22  -0.264783  0.782279 -0.227397 -0.359445  three"
      ]
     },
     "execution_count": 47,
     "metadata": {},
     "output_type": "execute_result"
    }
   ],
   "source": [
    "df"
   ]
  },
  {
   "cell_type": "code",
   "execution_count": 48,
   "metadata": {},
   "outputs": [
    {
     "data": {
      "text/html": [
       "<div>\n",
       "<style scoped>\n",
       "    .dataframe tbody tr th:only-of-type {\n",
       "        vertical-align: middle;\n",
       "    }\n",
       "\n",
       "    .dataframe tbody tr th {\n",
       "        vertical-align: top;\n",
       "    }\n",
       "\n",
       "    .dataframe thead th {\n",
       "        text-align: right;\n",
       "    }\n",
       "</style>\n",
       "<table border=\"1\" class=\"dataframe\">\n",
       "  <thead>\n",
       "    <tr style=\"text-align: right;\">\n",
       "      <th></th>\n",
       "      <th>A</th>\n",
       "      <th>B</th>\n",
       "      <th>C</th>\n",
       "      <th>D</th>\n",
       "      <th>E</th>\n",
       "    </tr>\n",
       "  </thead>\n",
       "  <tbody>\n",
       "    <tr>\n",
       "      <td>2021-02-19</td>\n",
       "      <td>0.253523</td>\n",
       "      <td>-0.030887</td>\n",
       "      <td>0.611111</td>\n",
       "      <td>0.786406</td>\n",
       "      <td>two</td>\n",
       "    </tr>\n",
       "    <tr>\n",
       "      <td>2021-02-21</td>\n",
       "      <td>1.363210</td>\n",
       "      <td>-1.968236</td>\n",
       "      <td>-0.862669</td>\n",
       "      <td>1.241813</td>\n",
       "      <td>four</td>\n",
       "    </tr>\n",
       "  </tbody>\n",
       "</table>\n",
       "</div>"
      ],
      "text/plain": [
       "                   A         B         C         D     E\n",
       "2021-02-19  0.253523 -0.030887  0.611111  0.786406   two\n",
       "2021-02-21  1.363210 -1.968236 -0.862669  1.241813  four"
      ]
     },
     "execution_count": 48,
     "metadata": {},
     "output_type": "execute_result"
    }
   ],
   "source": [
    "df[df['E'].isin(['two','four'])]"
   ]
  },
  {
   "cell_type": "raw",
   "metadata": {},
   "source": [
    "** Setting **\n",
    "Setting a new column automatically aligns the data by the indexes"
   ]
  },
  {
   "cell_type": "code",
   "execution_count": 49,
   "metadata": {},
   "outputs": [],
   "source": [
    "s1=pd.Series([1,2,3,4,5,6],index=pd.date_range('20210217',periods=6))"
   ]
  },
  {
   "cell_type": "code",
   "execution_count": 50,
   "metadata": {},
   "outputs": [
    {
     "data": {
      "text/plain": [
       "2021-02-17    1\n",
       "2021-02-18    2\n",
       "2021-02-19    3\n",
       "2021-02-20    4\n",
       "2021-02-21    5\n",
       "2021-02-22    6\n",
       "Freq: D, dtype: int64"
      ]
     },
     "execution_count": 50,
     "metadata": {},
     "output_type": "execute_result"
    }
   ],
   "source": [
    "s1"
   ]
  },
  {
   "cell_type": "code",
   "execution_count": 51,
   "metadata": {},
   "outputs": [],
   "source": [
    "df['F']=s1"
   ]
  },
  {
   "cell_type": "code",
   "execution_count": 52,
   "metadata": {},
   "outputs": [
    {
     "data": {
      "text/html": [
       "<div>\n",
       "<style scoped>\n",
       "    .dataframe tbody tr th:only-of-type {\n",
       "        vertical-align: middle;\n",
       "    }\n",
       "\n",
       "    .dataframe tbody tr th {\n",
       "        vertical-align: top;\n",
       "    }\n",
       "\n",
       "    .dataframe thead th {\n",
       "        text-align: right;\n",
       "    }\n",
       "</style>\n",
       "<table border=\"1\" class=\"dataframe\">\n",
       "  <thead>\n",
       "    <tr style=\"text-align: right;\">\n",
       "      <th></th>\n",
       "      <th>A</th>\n",
       "      <th>B</th>\n",
       "      <th>C</th>\n",
       "      <th>D</th>\n",
       "      <th>E</th>\n",
       "      <th>F</th>\n",
       "    </tr>\n",
       "  </thead>\n",
       "  <tbody>\n",
       "    <tr>\n",
       "      <td>2021-02-17</td>\n",
       "      <td>12.000000</td>\n",
       "      <td>-1.232035</td>\n",
       "      <td>-0.082802</td>\n",
       "      <td>0.110710</td>\n",
       "      <td>one</td>\n",
       "      <td>1</td>\n",
       "    </tr>\n",
       "    <tr>\n",
       "      <td>2021-02-18</td>\n",
       "      <td>0.351729</td>\n",
       "      <td>1.374050</td>\n",
       "      <td>0.429826</td>\n",
       "      <td>-0.823687</td>\n",
       "      <td>one</td>\n",
       "      <td>2</td>\n",
       "    </tr>\n",
       "    <tr>\n",
       "      <td>2021-02-19</td>\n",
       "      <td>0.253523</td>\n",
       "      <td>-0.030887</td>\n",
       "      <td>0.611111</td>\n",
       "      <td>0.786406</td>\n",
       "      <td>two</td>\n",
       "      <td>3</td>\n",
       "    </tr>\n",
       "    <tr>\n",
       "      <td>2021-02-20</td>\n",
       "      <td>0.862217</td>\n",
       "      <td>-0.543569</td>\n",
       "      <td>0.174998</td>\n",
       "      <td>-0.106426</td>\n",
       "      <td>three</td>\n",
       "      <td>4</td>\n",
       "    </tr>\n",
       "    <tr>\n",
       "      <td>2021-02-21</td>\n",
       "      <td>1.363210</td>\n",
       "      <td>-1.968236</td>\n",
       "      <td>-0.862669</td>\n",
       "      <td>1.241813</td>\n",
       "      <td>four</td>\n",
       "      <td>5</td>\n",
       "    </tr>\n",
       "    <tr>\n",
       "      <td>2021-02-22</td>\n",
       "      <td>-0.264783</td>\n",
       "      <td>0.782279</td>\n",
       "      <td>-0.227397</td>\n",
       "      <td>-0.359445</td>\n",
       "      <td>three</td>\n",
       "      <td>6</td>\n",
       "    </tr>\n",
       "  </tbody>\n",
       "</table>\n",
       "</div>"
      ],
      "text/plain": [
       "                    A         B         C         D      E  F\n",
       "2021-02-17  12.000000 -1.232035 -0.082802  0.110710    one  1\n",
       "2021-02-18   0.351729  1.374050  0.429826 -0.823687    one  2\n",
       "2021-02-19   0.253523 -0.030887  0.611111  0.786406    two  3\n",
       "2021-02-20   0.862217 -0.543569  0.174998 -0.106426  three  4\n",
       "2021-02-21   1.363210 -1.968236 -0.862669  1.241813   four  5\n",
       "2021-02-22  -0.264783  0.782279 -0.227397 -0.359445  three  6"
      ]
     },
     "execution_count": 52,
     "metadata": {},
     "output_type": "execute_result"
    }
   ],
   "source": [
    "df"
   ]
  },
  {
   "cell_type": "raw",
   "metadata": {},
   "source": [
    "** Setting values by label**"
   ]
  },
  {
   "cell_type": "code",
   "execution_count": 53,
   "metadata": {},
   "outputs": [],
   "source": [
    "df.at[dates[0],'A']=0"
   ]
  },
  {
   "cell_type": "code",
   "execution_count": 54,
   "metadata": {},
   "outputs": [
    {
     "data": {
      "text/html": [
       "<div>\n",
       "<style scoped>\n",
       "    .dataframe tbody tr th:only-of-type {\n",
       "        vertical-align: middle;\n",
       "    }\n",
       "\n",
       "    .dataframe tbody tr th {\n",
       "        vertical-align: top;\n",
       "    }\n",
       "\n",
       "    .dataframe thead th {\n",
       "        text-align: right;\n",
       "    }\n",
       "</style>\n",
       "<table border=\"1\" class=\"dataframe\">\n",
       "  <thead>\n",
       "    <tr style=\"text-align: right;\">\n",
       "      <th></th>\n",
       "      <th>A</th>\n",
       "      <th>B</th>\n",
       "      <th>C</th>\n",
       "      <th>D</th>\n",
       "      <th>E</th>\n",
       "      <th>F</th>\n",
       "    </tr>\n",
       "  </thead>\n",
       "  <tbody>\n",
       "    <tr>\n",
       "      <td>2021-02-17</td>\n",
       "      <td>0.000000</td>\n",
       "      <td>-1.232035</td>\n",
       "      <td>-0.082802</td>\n",
       "      <td>0.110710</td>\n",
       "      <td>one</td>\n",
       "      <td>1</td>\n",
       "    </tr>\n",
       "    <tr>\n",
       "      <td>2021-02-18</td>\n",
       "      <td>0.351729</td>\n",
       "      <td>1.374050</td>\n",
       "      <td>0.429826</td>\n",
       "      <td>-0.823687</td>\n",
       "      <td>one</td>\n",
       "      <td>2</td>\n",
       "    </tr>\n",
       "    <tr>\n",
       "      <td>2021-02-19</td>\n",
       "      <td>0.253523</td>\n",
       "      <td>-0.030887</td>\n",
       "      <td>0.611111</td>\n",
       "      <td>0.786406</td>\n",
       "      <td>two</td>\n",
       "      <td>3</td>\n",
       "    </tr>\n",
       "    <tr>\n",
       "      <td>2021-02-20</td>\n",
       "      <td>0.862217</td>\n",
       "      <td>-0.543569</td>\n",
       "      <td>0.174998</td>\n",
       "      <td>-0.106426</td>\n",
       "      <td>three</td>\n",
       "      <td>4</td>\n",
       "    </tr>\n",
       "    <tr>\n",
       "      <td>2021-02-21</td>\n",
       "      <td>1.363210</td>\n",
       "      <td>-1.968236</td>\n",
       "      <td>-0.862669</td>\n",
       "      <td>1.241813</td>\n",
       "      <td>four</td>\n",
       "      <td>5</td>\n",
       "    </tr>\n",
       "    <tr>\n",
       "      <td>2021-02-22</td>\n",
       "      <td>-0.264783</td>\n",
       "      <td>0.782279</td>\n",
       "      <td>-0.227397</td>\n",
       "      <td>-0.359445</td>\n",
       "      <td>three</td>\n",
       "      <td>6</td>\n",
       "    </tr>\n",
       "  </tbody>\n",
       "</table>\n",
       "</div>"
      ],
      "text/plain": [
       "                   A         B         C         D      E  F\n",
       "2021-02-17  0.000000 -1.232035 -0.082802  0.110710    one  1\n",
       "2021-02-18  0.351729  1.374050  0.429826 -0.823687    one  2\n",
       "2021-02-19  0.253523 -0.030887  0.611111  0.786406    two  3\n",
       "2021-02-20  0.862217 -0.543569  0.174998 -0.106426  three  4\n",
       "2021-02-21  1.363210 -1.968236 -0.862669  1.241813   four  5\n",
       "2021-02-22 -0.264783  0.782279 -0.227397 -0.359445  three  6"
      ]
     },
     "execution_count": 54,
     "metadata": {},
     "output_type": "execute_result"
    }
   ],
   "source": [
    "df"
   ]
  },
  {
   "cell_type": "raw",
   "metadata": {},
   "source": [
    "** Setting values by position ** "
   ]
  },
  {
   "cell_type": "code",
   "execution_count": 55,
   "metadata": {},
   "outputs": [],
   "source": [
    "df.iat[0,1]=0"
   ]
  },
  {
   "cell_type": "code",
   "execution_count": 56,
   "metadata": {},
   "outputs": [
    {
     "data": {
      "text/html": [
       "<div>\n",
       "<style scoped>\n",
       "    .dataframe tbody tr th:only-of-type {\n",
       "        vertical-align: middle;\n",
       "    }\n",
       "\n",
       "    .dataframe tbody tr th {\n",
       "        vertical-align: top;\n",
       "    }\n",
       "\n",
       "    .dataframe thead th {\n",
       "        text-align: right;\n",
       "    }\n",
       "</style>\n",
       "<table border=\"1\" class=\"dataframe\">\n",
       "  <thead>\n",
       "    <tr style=\"text-align: right;\">\n",
       "      <th></th>\n",
       "      <th>A</th>\n",
       "      <th>B</th>\n",
       "      <th>C</th>\n",
       "      <th>D</th>\n",
       "      <th>E</th>\n",
       "      <th>F</th>\n",
       "    </tr>\n",
       "  </thead>\n",
       "  <tbody>\n",
       "    <tr>\n",
       "      <td>2021-02-17</td>\n",
       "      <td>0.000000</td>\n",
       "      <td>0.000000</td>\n",
       "      <td>-0.082802</td>\n",
       "      <td>0.110710</td>\n",
       "      <td>one</td>\n",
       "      <td>1</td>\n",
       "    </tr>\n",
       "    <tr>\n",
       "      <td>2021-02-18</td>\n",
       "      <td>0.351729</td>\n",
       "      <td>1.374050</td>\n",
       "      <td>0.429826</td>\n",
       "      <td>-0.823687</td>\n",
       "      <td>one</td>\n",
       "      <td>2</td>\n",
       "    </tr>\n",
       "    <tr>\n",
       "      <td>2021-02-19</td>\n",
       "      <td>0.253523</td>\n",
       "      <td>-0.030887</td>\n",
       "      <td>0.611111</td>\n",
       "      <td>0.786406</td>\n",
       "      <td>two</td>\n",
       "      <td>3</td>\n",
       "    </tr>\n",
       "    <tr>\n",
       "      <td>2021-02-20</td>\n",
       "      <td>0.862217</td>\n",
       "      <td>-0.543569</td>\n",
       "      <td>0.174998</td>\n",
       "      <td>-0.106426</td>\n",
       "      <td>three</td>\n",
       "      <td>4</td>\n",
       "    </tr>\n",
       "    <tr>\n",
       "      <td>2021-02-21</td>\n",
       "      <td>1.363210</td>\n",
       "      <td>-1.968236</td>\n",
       "      <td>-0.862669</td>\n",
       "      <td>1.241813</td>\n",
       "      <td>four</td>\n",
       "      <td>5</td>\n",
       "    </tr>\n",
       "    <tr>\n",
       "      <td>2021-02-22</td>\n",
       "      <td>-0.264783</td>\n",
       "      <td>0.782279</td>\n",
       "      <td>-0.227397</td>\n",
       "      <td>-0.359445</td>\n",
       "      <td>three</td>\n",
       "      <td>6</td>\n",
       "    </tr>\n",
       "  </tbody>\n",
       "</table>\n",
       "</div>"
      ],
      "text/plain": [
       "                   A         B         C         D      E  F\n",
       "2021-02-17  0.000000  0.000000 -0.082802  0.110710    one  1\n",
       "2021-02-18  0.351729  1.374050  0.429826 -0.823687    one  2\n",
       "2021-02-19  0.253523 -0.030887  0.611111  0.786406    two  3\n",
       "2021-02-20  0.862217 -0.543569  0.174998 -0.106426  three  4\n",
       "2021-02-21  1.363210 -1.968236 -0.862669  1.241813   four  5\n",
       "2021-02-22 -0.264783  0.782279 -0.227397 -0.359445  three  6"
      ]
     },
     "execution_count": 56,
     "metadata": {},
     "output_type": "execute_result"
    }
   ],
   "source": [
    "df"
   ]
  },
  {
   "cell_type": "raw",
   "metadata": {},
   "source": [
    "** Setting by assigning with a numpy array **"
   ]
  },
  {
   "cell_type": "code",
   "execution_count": 57,
   "metadata": {},
   "outputs": [],
   "source": [
    "df.loc[:,'D']=np.array([5]*len(df))"
   ]
  },
  {
   "cell_type": "code",
   "execution_count": 58,
   "metadata": {},
   "outputs": [
    {
     "data": {
      "text/html": [
       "<div>\n",
       "<style scoped>\n",
       "    .dataframe tbody tr th:only-of-type {\n",
       "        vertical-align: middle;\n",
       "    }\n",
       "\n",
       "    .dataframe tbody tr th {\n",
       "        vertical-align: top;\n",
       "    }\n",
       "\n",
       "    .dataframe thead th {\n",
       "        text-align: right;\n",
       "    }\n",
       "</style>\n",
       "<table border=\"1\" class=\"dataframe\">\n",
       "  <thead>\n",
       "    <tr style=\"text-align: right;\">\n",
       "      <th></th>\n",
       "      <th>A</th>\n",
       "      <th>B</th>\n",
       "      <th>C</th>\n",
       "      <th>D</th>\n",
       "      <th>E</th>\n",
       "      <th>F</th>\n",
       "    </tr>\n",
       "  </thead>\n",
       "  <tbody>\n",
       "    <tr>\n",
       "      <td>2021-02-17</td>\n",
       "      <td>0.000000</td>\n",
       "      <td>0.000000</td>\n",
       "      <td>-0.082802</td>\n",
       "      <td>5</td>\n",
       "      <td>one</td>\n",
       "      <td>1</td>\n",
       "    </tr>\n",
       "    <tr>\n",
       "      <td>2021-02-18</td>\n",
       "      <td>0.351729</td>\n",
       "      <td>1.374050</td>\n",
       "      <td>0.429826</td>\n",
       "      <td>5</td>\n",
       "      <td>one</td>\n",
       "      <td>2</td>\n",
       "    </tr>\n",
       "    <tr>\n",
       "      <td>2021-02-19</td>\n",
       "      <td>0.253523</td>\n",
       "      <td>-0.030887</td>\n",
       "      <td>0.611111</td>\n",
       "      <td>5</td>\n",
       "      <td>two</td>\n",
       "      <td>3</td>\n",
       "    </tr>\n",
       "    <tr>\n",
       "      <td>2021-02-20</td>\n",
       "      <td>0.862217</td>\n",
       "      <td>-0.543569</td>\n",
       "      <td>0.174998</td>\n",
       "      <td>5</td>\n",
       "      <td>three</td>\n",
       "      <td>4</td>\n",
       "    </tr>\n",
       "    <tr>\n",
       "      <td>2021-02-21</td>\n",
       "      <td>1.363210</td>\n",
       "      <td>-1.968236</td>\n",
       "      <td>-0.862669</td>\n",
       "      <td>5</td>\n",
       "      <td>four</td>\n",
       "      <td>5</td>\n",
       "    </tr>\n",
       "    <tr>\n",
       "      <td>2021-02-22</td>\n",
       "      <td>-0.264783</td>\n",
       "      <td>0.782279</td>\n",
       "      <td>-0.227397</td>\n",
       "      <td>5</td>\n",
       "      <td>three</td>\n",
       "      <td>6</td>\n",
       "    </tr>\n",
       "  </tbody>\n",
       "</table>\n",
       "</div>"
      ],
      "text/plain": [
       "                   A         B         C  D      E  F\n",
       "2021-02-17  0.000000  0.000000 -0.082802  5    one  1\n",
       "2021-02-18  0.351729  1.374050  0.429826  5    one  2\n",
       "2021-02-19  0.253523 -0.030887  0.611111  5    two  3\n",
       "2021-02-20  0.862217 -0.543569  0.174998  5  three  4\n",
       "2021-02-21  1.363210 -1.968236 -0.862669  5   four  5\n",
       "2021-02-22 -0.264783  0.782279 -0.227397  5  three  6"
      ]
     },
     "execution_count": 58,
     "metadata": {},
     "output_type": "execute_result"
    }
   ],
   "source": [
    "df\n"
   ]
  },
  {
   "cell_type": "raw",
   "metadata": {},
   "source": [
    "** Missing Data **\n",
    "-> pandas primarily uses the value np.nan to represent missing data. It is by default not included in\n",
    "   computations. See the Missing Data section."
   ]
  },
  {
   "cell_type": "code",
   "execution_count": 59,
   "metadata": {},
   "outputs": [
    {
     "data": {
      "text/html": [
       "<div>\n",
       "<style scoped>\n",
       "    .dataframe tbody tr th:only-of-type {\n",
       "        vertical-align: middle;\n",
       "    }\n",
       "\n",
       "    .dataframe tbody tr th {\n",
       "        vertical-align: top;\n",
       "    }\n",
       "\n",
       "    .dataframe thead th {\n",
       "        text-align: right;\n",
       "    }\n",
       "</style>\n",
       "<table border=\"1\" class=\"dataframe\">\n",
       "  <thead>\n",
       "    <tr style=\"text-align: right;\">\n",
       "      <th></th>\n",
       "      <th>A</th>\n",
       "      <th>B</th>\n",
       "      <th>C</th>\n",
       "      <th>D</th>\n",
       "      <th>E</th>\n",
       "      <th>F</th>\n",
       "    </tr>\n",
       "  </thead>\n",
       "  <tbody>\n",
       "    <tr>\n",
       "      <td>2021-02-17</td>\n",
       "      <td>0.000000</td>\n",
       "      <td>0.000000</td>\n",
       "      <td>-0.082802</td>\n",
       "      <td>5</td>\n",
       "      <td>one</td>\n",
       "      <td>1</td>\n",
       "    </tr>\n",
       "    <tr>\n",
       "      <td>2021-02-18</td>\n",
       "      <td>0.351729</td>\n",
       "      <td>1.374050</td>\n",
       "      <td>0.429826</td>\n",
       "      <td>5</td>\n",
       "      <td>one</td>\n",
       "      <td>2</td>\n",
       "    </tr>\n",
       "    <tr>\n",
       "      <td>2021-02-19</td>\n",
       "      <td>0.253523</td>\n",
       "      <td>-0.030887</td>\n",
       "      <td>0.611111</td>\n",
       "      <td>5</td>\n",
       "      <td>two</td>\n",
       "      <td>3</td>\n",
       "    </tr>\n",
       "    <tr>\n",
       "      <td>2021-02-20</td>\n",
       "      <td>0.862217</td>\n",
       "      <td>-0.543569</td>\n",
       "      <td>0.174998</td>\n",
       "      <td>5</td>\n",
       "      <td>three</td>\n",
       "      <td>4</td>\n",
       "    </tr>\n",
       "    <tr>\n",
       "      <td>2021-02-21</td>\n",
       "      <td>1.363210</td>\n",
       "      <td>-1.968236</td>\n",
       "      <td>-0.862669</td>\n",
       "      <td>5</td>\n",
       "      <td>four</td>\n",
       "      <td>5</td>\n",
       "    </tr>\n",
       "    <tr>\n",
       "      <td>2021-02-22</td>\n",
       "      <td>-0.264783</td>\n",
       "      <td>0.782279</td>\n",
       "      <td>-0.227397</td>\n",
       "      <td>5</td>\n",
       "      <td>three</td>\n",
       "      <td>6</td>\n",
       "    </tr>\n",
       "  </tbody>\n",
       "</table>\n",
       "</div>"
      ],
      "text/plain": [
       "                   A         B         C  D      E  F\n",
       "2021-02-17  0.000000  0.000000 -0.082802  5    one  1\n",
       "2021-02-18  0.351729  1.374050  0.429826  5    one  2\n",
       "2021-02-19  0.253523 -0.030887  0.611111  5    two  3\n",
       "2021-02-20  0.862217 -0.543569  0.174998  5  three  4\n",
       "2021-02-21  1.363210 -1.968236 -0.862669  5   four  5\n",
       "2021-02-22 -0.264783  0.782279 -0.227397  5  three  6"
      ]
     },
     "execution_count": 59,
     "metadata": {},
     "output_type": "execute_result"
    }
   ],
   "source": [
    "df"
   ]
  },
  {
   "cell_type": "code",
   "execution_count": 60,
   "metadata": {},
   "outputs": [],
   "source": [
    "df1=df.reindex(index=dates[0:4],columns=list(df.columns)+['G'])"
   ]
  },
  {
   "cell_type": "code",
   "execution_count": 61,
   "metadata": {},
   "outputs": [],
   "source": [
    "df1.loc[dates[0]:dates[1],'G']=1"
   ]
  },
  {
   "cell_type": "code",
   "execution_count": 62,
   "metadata": {},
   "outputs": [
    {
     "data": {
      "text/html": [
       "<div>\n",
       "<style scoped>\n",
       "    .dataframe tbody tr th:only-of-type {\n",
       "        vertical-align: middle;\n",
       "    }\n",
       "\n",
       "    .dataframe tbody tr th {\n",
       "        vertical-align: top;\n",
       "    }\n",
       "\n",
       "    .dataframe thead th {\n",
       "        text-align: right;\n",
       "    }\n",
       "</style>\n",
       "<table border=\"1\" class=\"dataframe\">\n",
       "  <thead>\n",
       "    <tr style=\"text-align: right;\">\n",
       "      <th></th>\n",
       "      <th>A</th>\n",
       "      <th>B</th>\n",
       "      <th>C</th>\n",
       "      <th>D</th>\n",
       "      <th>E</th>\n",
       "      <th>F</th>\n",
       "      <th>G</th>\n",
       "    </tr>\n",
       "  </thead>\n",
       "  <tbody>\n",
       "    <tr>\n",
       "      <td>2021-02-17</td>\n",
       "      <td>0.000000</td>\n",
       "      <td>0.000000</td>\n",
       "      <td>-0.082802</td>\n",
       "      <td>5</td>\n",
       "      <td>one</td>\n",
       "      <td>1</td>\n",
       "      <td>1.0</td>\n",
       "    </tr>\n",
       "    <tr>\n",
       "      <td>2021-02-18</td>\n",
       "      <td>0.351729</td>\n",
       "      <td>1.374050</td>\n",
       "      <td>0.429826</td>\n",
       "      <td>5</td>\n",
       "      <td>one</td>\n",
       "      <td>2</td>\n",
       "      <td>1.0</td>\n",
       "    </tr>\n",
       "    <tr>\n",
       "      <td>2021-02-19</td>\n",
       "      <td>0.253523</td>\n",
       "      <td>-0.030887</td>\n",
       "      <td>0.611111</td>\n",
       "      <td>5</td>\n",
       "      <td>two</td>\n",
       "      <td>3</td>\n",
       "      <td>NaN</td>\n",
       "    </tr>\n",
       "    <tr>\n",
       "      <td>2021-02-20</td>\n",
       "      <td>0.862217</td>\n",
       "      <td>-0.543569</td>\n",
       "      <td>0.174998</td>\n",
       "      <td>5</td>\n",
       "      <td>three</td>\n",
       "      <td>4</td>\n",
       "      <td>NaN</td>\n",
       "    </tr>\n",
       "  </tbody>\n",
       "</table>\n",
       "</div>"
      ],
      "text/plain": [
       "                   A         B         C  D      E  F    G\n",
       "2021-02-17  0.000000  0.000000 -0.082802  5    one  1  1.0\n",
       "2021-02-18  0.351729  1.374050  0.429826  5    one  2  1.0\n",
       "2021-02-19  0.253523 -0.030887  0.611111  5    two  3  NaN\n",
       "2021-02-20  0.862217 -0.543569  0.174998  5  three  4  NaN"
      ]
     },
     "execution_count": 62,
     "metadata": {},
     "output_type": "execute_result"
    }
   ],
   "source": [
    "df1"
   ]
  },
  {
   "cell_type": "code",
   "execution_count": 63,
   "metadata": {},
   "outputs": [
    {
     "data": {
      "text/html": [
       "<div>\n",
       "<style scoped>\n",
       "    .dataframe tbody tr th:only-of-type {\n",
       "        vertical-align: middle;\n",
       "    }\n",
       "\n",
       "    .dataframe tbody tr th {\n",
       "        vertical-align: top;\n",
       "    }\n",
       "\n",
       "    .dataframe thead th {\n",
       "        text-align: right;\n",
       "    }\n",
       "</style>\n",
       "<table border=\"1\" class=\"dataframe\">\n",
       "  <thead>\n",
       "    <tr style=\"text-align: right;\">\n",
       "      <th></th>\n",
       "      <th>A</th>\n",
       "      <th>B</th>\n",
       "      <th>C</th>\n",
       "      <th>D</th>\n",
       "      <th>E</th>\n",
       "      <th>F</th>\n",
       "      <th>G</th>\n",
       "    </tr>\n",
       "  </thead>\n",
       "  <tbody>\n",
       "    <tr>\n",
       "      <td>2021-02-17</td>\n",
       "      <td>0.000000</td>\n",
       "      <td>0.00000</td>\n",
       "      <td>-0.082802</td>\n",
       "      <td>5</td>\n",
       "      <td>one</td>\n",
       "      <td>1</td>\n",
       "      <td>1.0</td>\n",
       "    </tr>\n",
       "    <tr>\n",
       "      <td>2021-02-18</td>\n",
       "      <td>0.351729</td>\n",
       "      <td>1.37405</td>\n",
       "      <td>0.429826</td>\n",
       "      <td>5</td>\n",
       "      <td>one</td>\n",
       "      <td>2</td>\n",
       "      <td>1.0</td>\n",
       "    </tr>\n",
       "  </tbody>\n",
       "</table>\n",
       "</div>"
      ],
      "text/plain": [
       "                   A        B         C  D    E  F    G\n",
       "2021-02-17  0.000000  0.00000 -0.082802  5  one  1  1.0\n",
       "2021-02-18  0.351729  1.37405  0.429826  5  one  2  1.0"
      ]
     },
     "execution_count": 63,
     "metadata": {},
     "output_type": "execute_result"
    }
   ],
   "source": [
    "df1.dropna(how='any')"
   ]
  },
  {
   "cell_type": "raw",
   "metadata": {},
   "source": [
    "** Filling missing data **"
   ]
  },
  {
   "cell_type": "code",
   "execution_count": 64,
   "metadata": {},
   "outputs": [
    {
     "data": {
      "text/html": [
       "<div>\n",
       "<style scoped>\n",
       "    .dataframe tbody tr th:only-of-type {\n",
       "        vertical-align: middle;\n",
       "    }\n",
       "\n",
       "    .dataframe tbody tr th {\n",
       "        vertical-align: top;\n",
       "    }\n",
       "\n",
       "    .dataframe thead th {\n",
       "        text-align: right;\n",
       "    }\n",
       "</style>\n",
       "<table border=\"1\" class=\"dataframe\">\n",
       "  <thead>\n",
       "    <tr style=\"text-align: right;\">\n",
       "      <th></th>\n",
       "      <th>A</th>\n",
       "      <th>B</th>\n",
       "      <th>C</th>\n",
       "      <th>D</th>\n",
       "      <th>E</th>\n",
       "      <th>F</th>\n",
       "      <th>G</th>\n",
       "    </tr>\n",
       "  </thead>\n",
       "  <tbody>\n",
       "    <tr>\n",
       "      <td>2021-02-17</td>\n",
       "      <td>0.000000</td>\n",
       "      <td>0.000000</td>\n",
       "      <td>-0.082802</td>\n",
       "      <td>5</td>\n",
       "      <td>one</td>\n",
       "      <td>1</td>\n",
       "      <td>1.0</td>\n",
       "    </tr>\n",
       "    <tr>\n",
       "      <td>2021-02-18</td>\n",
       "      <td>0.351729</td>\n",
       "      <td>1.374050</td>\n",
       "      <td>0.429826</td>\n",
       "      <td>5</td>\n",
       "      <td>one</td>\n",
       "      <td>2</td>\n",
       "      <td>1.0</td>\n",
       "    </tr>\n",
       "    <tr>\n",
       "      <td>2021-02-19</td>\n",
       "      <td>0.253523</td>\n",
       "      <td>-0.030887</td>\n",
       "      <td>0.611111</td>\n",
       "      <td>5</td>\n",
       "      <td>two</td>\n",
       "      <td>3</td>\n",
       "      <td>5.0</td>\n",
       "    </tr>\n",
       "    <tr>\n",
       "      <td>2021-02-20</td>\n",
       "      <td>0.862217</td>\n",
       "      <td>-0.543569</td>\n",
       "      <td>0.174998</td>\n",
       "      <td>5</td>\n",
       "      <td>three</td>\n",
       "      <td>4</td>\n",
       "      <td>5.0</td>\n",
       "    </tr>\n",
       "  </tbody>\n",
       "</table>\n",
       "</div>"
      ],
      "text/plain": [
       "                   A         B         C  D      E  F    G\n",
       "2021-02-17  0.000000  0.000000 -0.082802  5    one  1  1.0\n",
       "2021-02-18  0.351729  1.374050  0.429826  5    one  2  1.0\n",
       "2021-02-19  0.253523 -0.030887  0.611111  5    two  3  5.0\n",
       "2021-02-20  0.862217 -0.543569  0.174998  5  three  4  5.0"
      ]
     },
     "execution_count": 64,
     "metadata": {},
     "output_type": "execute_result"
    }
   ],
   "source": [
    "df1.fillna(value=5)"
   ]
  },
  {
   "cell_type": "raw",
   "metadata": {},
   "source": [
    "** Apply **\n",
    "Applying functions to the data"
   ]
  },
  {
   "cell_type": "code",
   "execution_count": 65,
   "metadata": {},
   "outputs": [
    {
     "data": {
      "text/html": [
       "<div>\n",
       "<style scoped>\n",
       "    .dataframe tbody tr th:only-of-type {\n",
       "        vertical-align: middle;\n",
       "    }\n",
       "\n",
       "    .dataframe tbody tr th {\n",
       "        vertical-align: top;\n",
       "    }\n",
       "\n",
       "    .dataframe thead th {\n",
       "        text-align: right;\n",
       "    }\n",
       "</style>\n",
       "<table border=\"1\" class=\"dataframe\">\n",
       "  <thead>\n",
       "    <tr style=\"text-align: right;\">\n",
       "      <th></th>\n",
       "      <th>A</th>\n",
       "      <th>B</th>\n",
       "      <th>C</th>\n",
       "      <th>D</th>\n",
       "      <th>E</th>\n",
       "      <th>F</th>\n",
       "    </tr>\n",
       "  </thead>\n",
       "  <tbody>\n",
       "    <tr>\n",
       "      <td>2021-02-17</td>\n",
       "      <td>0.000000</td>\n",
       "      <td>0.000000</td>\n",
       "      <td>-0.082802</td>\n",
       "      <td>5</td>\n",
       "      <td>one</td>\n",
       "      <td>1</td>\n",
       "    </tr>\n",
       "    <tr>\n",
       "      <td>2021-02-18</td>\n",
       "      <td>0.351729</td>\n",
       "      <td>1.374050</td>\n",
       "      <td>0.347024</td>\n",
       "      <td>10</td>\n",
       "      <td>oneone</td>\n",
       "      <td>3</td>\n",
       "    </tr>\n",
       "    <tr>\n",
       "      <td>2021-02-19</td>\n",
       "      <td>0.605252</td>\n",
       "      <td>1.343163</td>\n",
       "      <td>0.958135</td>\n",
       "      <td>15</td>\n",
       "      <td>oneonetwo</td>\n",
       "      <td>6</td>\n",
       "    </tr>\n",
       "    <tr>\n",
       "      <td>2021-02-20</td>\n",
       "      <td>1.467469</td>\n",
       "      <td>0.799594</td>\n",
       "      <td>1.133133</td>\n",
       "      <td>20</td>\n",
       "      <td>oneonetwothree</td>\n",
       "      <td>10</td>\n",
       "    </tr>\n",
       "    <tr>\n",
       "      <td>2021-02-21</td>\n",
       "      <td>2.830680</td>\n",
       "      <td>-1.168642</td>\n",
       "      <td>0.270464</td>\n",
       "      <td>25</td>\n",
       "      <td>oneonetwothreefour</td>\n",
       "      <td>15</td>\n",
       "    </tr>\n",
       "    <tr>\n",
       "      <td>2021-02-22</td>\n",
       "      <td>2.565897</td>\n",
       "      <td>-0.386363</td>\n",
       "      <td>0.043067</td>\n",
       "      <td>30</td>\n",
       "      <td>oneonetwothreefourthree</td>\n",
       "      <td>21</td>\n",
       "    </tr>\n",
       "  </tbody>\n",
       "</table>\n",
       "</div>"
      ],
      "text/plain": [
       "                   A         B         C   D                        E   F\n",
       "2021-02-17  0.000000  0.000000 -0.082802   5                      one   1\n",
       "2021-02-18  0.351729  1.374050  0.347024  10                   oneone   3\n",
       "2021-02-19  0.605252  1.343163  0.958135  15                oneonetwo   6\n",
       "2021-02-20  1.467469  0.799594  1.133133  20           oneonetwothree  10\n",
       "2021-02-21  2.830680 -1.168642  0.270464  25       oneonetwothreefour  15\n",
       "2021-02-22  2.565897 -0.386363  0.043067  30  oneonetwothreefourthree  21"
      ]
     },
     "execution_count": 65,
     "metadata": {},
     "output_type": "execute_result"
    }
   ],
   "source": [
    "df.apply(np.cumsum)"
   ]
  },
  {
   "cell_type": "code",
   "execution_count": 66,
   "metadata": {},
   "outputs": [
    {
     "data": {
      "text/html": [
       "<div>\n",
       "<style scoped>\n",
       "    .dataframe tbody tr th:only-of-type {\n",
       "        vertical-align: middle;\n",
       "    }\n",
       "\n",
       "    .dataframe tbody tr th {\n",
       "        vertical-align: top;\n",
       "    }\n",
       "\n",
       "    .dataframe thead th {\n",
       "        text-align: right;\n",
       "    }\n",
       "</style>\n",
       "<table border=\"1\" class=\"dataframe\">\n",
       "  <thead>\n",
       "    <tr style=\"text-align: right;\">\n",
       "      <th></th>\n",
       "      <th>A</th>\n",
       "      <th>B</th>\n",
       "      <th>C</th>\n",
       "      <th>D</th>\n",
       "      <th>E</th>\n",
       "      <th>F</th>\n",
       "    </tr>\n",
       "  </thead>\n",
       "  <tbody>\n",
       "    <tr>\n",
       "      <td>2021-02-17</td>\n",
       "      <td>0.000000</td>\n",
       "      <td>0.00000</td>\n",
       "      <td>-0.082802</td>\n",
       "      <td>5</td>\n",
       "      <td>one</td>\n",
       "      <td>1</td>\n",
       "    </tr>\n",
       "    <tr>\n",
       "      <td>2021-02-18</td>\n",
       "      <td>0.351729</td>\n",
       "      <td>1.37405</td>\n",
       "      <td>0.429826</td>\n",
       "      <td>5</td>\n",
       "      <td>one</td>\n",
       "      <td>2</td>\n",
       "    </tr>\n",
       "  </tbody>\n",
       "</table>\n",
       "</div>"
      ],
      "text/plain": [
       "                   A        B         C  D    E  F\n",
       "2021-02-17  0.000000  0.00000 -0.082802  5  one  1\n",
       "2021-02-18  0.351729  1.37405  0.429826  5  one  2"
      ]
     },
     "execution_count": 66,
     "metadata": {},
     "output_type": "execute_result"
    }
   ],
   "source": [
    "df[df['E'].apply(lambda x:x.startswith('one'))]"
   ]
  },
  {
   "cell_type": "code",
   "execution_count": 67,
   "metadata": {},
   "outputs": [
    {
     "data": {
      "text/plain": [
       "2021-02-17    1\n",
       "2021-02-18    2\n",
       "2021-02-19    3\n",
       "2021-02-20    4\n",
       "2021-02-21    5\n",
       "2021-02-22    6\n",
       "Freq: D, Name: F, dtype: int64"
      ]
     },
     "execution_count": 67,
     "metadata": {},
     "output_type": "execute_result"
    }
   ],
   "source": [
    "df['F'].apply(lambda x:np.max(x))"
   ]
  },
  {
   "cell_type": "code",
   "execution_count": 68,
   "metadata": {},
   "outputs": [
    {
     "data": {
      "text/plain": [
       "6"
      ]
     },
     "execution_count": 68,
     "metadata": {},
     "output_type": "execute_result"
    }
   ],
   "source": [
    "df['F'].max()"
   ]
  },
  {
   "cell_type": "code",
   "execution_count": 69,
   "metadata": {},
   "outputs": [],
   "source": [
    "df['G']=['21k','987hj','098k','764lk','7658hgk','908lkim']"
   ]
  },
  {
   "cell_type": "code",
   "execution_count": 70,
   "metadata": {},
   "outputs": [
    {
     "data": {
      "text/html": [
       "<div>\n",
       "<style scoped>\n",
       "    .dataframe tbody tr th:only-of-type {\n",
       "        vertical-align: middle;\n",
       "    }\n",
       "\n",
       "    .dataframe tbody tr th {\n",
       "        vertical-align: top;\n",
       "    }\n",
       "\n",
       "    .dataframe thead th {\n",
       "        text-align: right;\n",
       "    }\n",
       "</style>\n",
       "<table border=\"1\" class=\"dataframe\">\n",
       "  <thead>\n",
       "    <tr style=\"text-align: right;\">\n",
       "      <th></th>\n",
       "      <th>A</th>\n",
       "      <th>B</th>\n",
       "      <th>C</th>\n",
       "      <th>D</th>\n",
       "      <th>E</th>\n",
       "      <th>F</th>\n",
       "      <th>G</th>\n",
       "    </tr>\n",
       "  </thead>\n",
       "  <tbody>\n",
       "    <tr>\n",
       "      <td>2021-02-17</td>\n",
       "      <td>0.000000</td>\n",
       "      <td>0.000000</td>\n",
       "      <td>-0.082802</td>\n",
       "      <td>5</td>\n",
       "      <td>one</td>\n",
       "      <td>1</td>\n",
       "      <td>21k</td>\n",
       "    </tr>\n",
       "    <tr>\n",
       "      <td>2021-02-18</td>\n",
       "      <td>0.351729</td>\n",
       "      <td>1.374050</td>\n",
       "      <td>0.429826</td>\n",
       "      <td>5</td>\n",
       "      <td>one</td>\n",
       "      <td>2</td>\n",
       "      <td>987hj</td>\n",
       "    </tr>\n",
       "    <tr>\n",
       "      <td>2021-02-19</td>\n",
       "      <td>0.253523</td>\n",
       "      <td>-0.030887</td>\n",
       "      <td>0.611111</td>\n",
       "      <td>5</td>\n",
       "      <td>two</td>\n",
       "      <td>3</td>\n",
       "      <td>098k</td>\n",
       "    </tr>\n",
       "    <tr>\n",
       "      <td>2021-02-20</td>\n",
       "      <td>0.862217</td>\n",
       "      <td>-0.543569</td>\n",
       "      <td>0.174998</td>\n",
       "      <td>5</td>\n",
       "      <td>three</td>\n",
       "      <td>4</td>\n",
       "      <td>764lk</td>\n",
       "    </tr>\n",
       "    <tr>\n",
       "      <td>2021-02-21</td>\n",
       "      <td>1.363210</td>\n",
       "      <td>-1.968236</td>\n",
       "      <td>-0.862669</td>\n",
       "      <td>5</td>\n",
       "      <td>four</td>\n",
       "      <td>5</td>\n",
       "      <td>7658hgk</td>\n",
       "    </tr>\n",
       "    <tr>\n",
       "      <td>2021-02-22</td>\n",
       "      <td>-0.264783</td>\n",
       "      <td>0.782279</td>\n",
       "      <td>-0.227397</td>\n",
       "      <td>5</td>\n",
       "      <td>three</td>\n",
       "      <td>6</td>\n",
       "      <td>908lkim</td>\n",
       "    </tr>\n",
       "  </tbody>\n",
       "</table>\n",
       "</div>"
      ],
      "text/plain": [
       "                   A         B         C  D      E  F        G\n",
       "2021-02-17  0.000000  0.000000 -0.082802  5    one  1      21k\n",
       "2021-02-18  0.351729  1.374050  0.429826  5    one  2    987hj\n",
       "2021-02-19  0.253523 -0.030887  0.611111  5    two  3     098k\n",
       "2021-02-20  0.862217 -0.543569  0.174998  5  three  4    764lk\n",
       "2021-02-21  1.363210 -1.968236 -0.862669  5   four  5  7658hgk\n",
       "2021-02-22 -0.264783  0.782279 -0.227397  5  three  6  908lkim"
      ]
     },
     "execution_count": 70,
     "metadata": {},
     "output_type": "execute_result"
    }
   ],
   "source": [
    "df"
   ]
  },
  {
   "cell_type": "code",
   "execution_count": 71,
   "metadata": {},
   "outputs": [
    {
     "name": "stdout",
     "output_type": "stream",
     "text": [
      "<class 'pandas.core.frame.DataFrame'>\n",
      "DatetimeIndex: 6 entries, 2021-02-17 to 2021-02-22\n",
      "Freq: D\n",
      "Data columns (total 7 columns):\n",
      "A    6 non-null float64\n",
      "B    6 non-null float64\n",
      "C    6 non-null float64\n",
      "D    6 non-null int32\n",
      "E    6 non-null object\n",
      "F    6 non-null int64\n",
      "G    6 non-null object\n",
      "dtypes: float64(3), int32(1), int64(1), object(2)\n",
      "memory usage: 520.0+ bytes\n"
     ]
    }
   ],
   "source": [
    "df.info()"
   ]
  },
  {
   "cell_type": "code",
   "execution_count": null,
   "metadata": {},
   "outputs": [],
   "source": []
  },
  {
   "cell_type": "code",
   "execution_count": null,
   "metadata": {},
   "outputs": [],
   "source": []
  }
 ],
 "metadata": {
  "kernelspec": {
   "display_name": "Python 3",
   "language": "python",
   "name": "python3"
  },
  "language_info": {
   "codemirror_mode": {
    "name": "ipython",
    "version": 3
   },
   "file_extension": ".py",
   "mimetype": "text/x-python",
   "name": "python",
   "nbconvert_exporter": "python",
   "pygments_lexer": "ipython3",
   "version": "3.7.4"
  }
 },
 "nbformat": 4,
 "nbformat_minor": 2
}
